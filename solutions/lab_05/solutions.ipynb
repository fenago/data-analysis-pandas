{
 "cells": [
  {
   "cell_type": "markdown",
   "metadata": {},
   "source": [
    "# Solutions\n",
    "\n",
    "## About the Data\n",
    "In this notebook, we will be working with 3 datasets:\n",
    "- Facebook's stock price throughout 2018 (obtained using the [`stock_analysis` package](https://github.com/fenago/stock-analysis))\n",
    "- Earthquake data from September 18, 2018 - October 13, 2018 (obtained from the US Geological Survey (USGS) using the [USGS API](https://earthquake.usgs.gov/fdsnws/event/1/))\n",
    "- European Centre for Disease Prevention and Control's (ECDC) [daily number of new reported cases of COVID-19 by country worldwide dataset](https://www.ecdc.europa.eu/en/publications-data/download-todays-data-geographic-distribution-covid-19-cases-worldwide) collected on September 19, 2020 via [this link](https://opendata.ecdc.europa.eu/covid19/casedistribution/csv)\n",
    "\n",
    "## Setup"
   ]
  },
  {
   "cell_type": "code",
   "execution_count": null,
   "metadata": {},
   "outputs": [],
   "source": [
    "%matplotlib inline\n",
    "import matplotlib.pyplot as plt\n",
    "import numpy as np\n",
    "import pandas as pd\n",
    "\n",
    "fb = pd.read_csv('../../lab_10/data/fb_stock_prices_2018.csv', index_col='date', parse_dates=True)\n",
    "quakes = pd.read_csv('../../lab_10/data/earthquakes.csv')\n",
    "covid = pd.read_csv('../../lab_10/data/covid19_cases.csv').assign(\n",
    "    date=lambda x: pd.to_datetime(x.dateRep, format='%d/%m/%Y')\n",
    ").set_index('date').replace(\n",
    "    'United_States_of_America', 'USA'\n",
    ").sort_index()['2020-01-18':'2020-09-18']"
   ]
  },
  {
   "cell_type": "markdown",
   "metadata": {},
   "source": [
    "## Exercise 1\n",
    "Plot the rolling 20-day minimum of the Facebook closing price with the `pandas` method."
   ]
  },
  {
   "cell_type": "code",
   "execution_count": null,
   "metadata": {},
   "outputs": [],
   "source": [
    "fb.close.rolling('20D').min().plot(\n",
    "    title='Rolling 20D Minimum Closing Price of Facebook Stock'\n",
    ")"
   ]
  },
  {
   "cell_type": "markdown",
   "metadata": {},
   "source": [
    "## Exercise 2\n",
    "Create a histogram and KDE of the change from open to close in the price of Facebook stock."
   ]
  },
  {
   "cell_type": "code",
   "execution_count": null,
   "metadata": {},
   "outputs": [],
   "source": [
    "differential = fb.open - fb.close\n",
    "ax = differential.plot(kind='hist', density=True, alpha=0.3)\n",
    "differential.plot(\n",
    "    kind='kde', color='blue', ax=ax, \n",
    "    title='Facebook Stock Price\\'s Daily Change from Open to Close'\n",
    ")"
   ]
  },
  {
   "cell_type": "markdown",
   "metadata": {},
   "source": [
    "## Exercise 3\n",
    "Using the earthquake data, create box plots for the magnitudes of each `magType` used in Indonesia."
   ]
  },
  {
   "cell_type": "code",
   "execution_count": null,
   "metadata": {},
   "outputs": [],
   "source": [
    "quakes.query('parsed_place == \"Indonesia\"')[['mag', 'magType']]\\\n",
    "    .groupby('magType').boxplot(layout=(1, 4), figsize=(15, 3))"
   ]
  },
  {
   "cell_type": "markdown",
   "metadata": {},
   "source": [
    "## Exercise 4\n",
    "Make a line plot of the difference between the weekly maximum high price and the weekly minimum low price for Facebook."
   ]
  },
  {
   "cell_type": "code",
   "execution_count": null,
   "metadata": {},
   "outputs": [],
   "source": [
    "fb.resample('1W').agg(\n",
    "    dict(high='max', low='min')\n",
    ").assign(\n",
    "    max_change_weekly=lambda x: x.high - x.low\n",
    ").max_change_weekly.plot(\n",
    "    title='Difference between Weekly Maximum High Price\\n'\n",
    "          'and Weekly Minimum Low Price of Facebook Stock'\n",
    ")"
   ]
  },
  {
   "cell_type": "markdown",
   "metadata": {},
   "source": [
    "## Exercise 5\n",
    "Plot the 14-day moving average of the daily change in new COVID-19 cases in Brazil, China, India, Italy, Spain, and the USA:\n",
    "\n",
    "1. First use the `diff()` method from last lab's time series section to calculate the day-over-day change in new cases, and then use `rolling()` to calculate the 14-day moving average.\n",
    "2. Make 3 subplots: one for China; one for Spain and Italy; and one for Brazil, India, and the USA."
   ]
  },
  {
   "cell_type": "code",
   "execution_count": null,
   "metadata": {},
   "outputs": [],
   "source": [
    "fig, axes = plt.subplots(1, 3, figsize=(15, 5))\n",
    "\n",
    "new_cases_rolling_average = covid.pivot_table(\n",
    "    index=covid.index, columns=['countriesAndTerritories'], values='cases'\n",
    ").apply(lambda x: x.diff().rolling(14).mean())\n",
    "\n",
    "new_cases_rolling_average[['China']].plot(ax=axes[0], color='red')\n",
    "new_cases_rolling_average[['Italy', 'Spain']].plot(\n",
    "    ax=axes[1], color=['magenta', 'cyan'],\n",
    "    title='14-day rolling average of change in daily new COVID-19 cases\\n(source: ECDC)'\n",
    ")\n",
    "new_cases_rolling_average[['Brazil', 'India', 'USA']].plot(ax=axes[2])"
   ]
  },
  {
   "cell_type": "markdown",
   "metadata": {},
   "source": [
    "## Exercise 6\n",
    "Using `matplotlib` and `pandas`, create two subplots side-by-side showing the effect that after-hours trading has had on Facebook's stock price:\n",
    "1. The first subplot will contain a line plot of the daily difference between that day's opening price and the prior day's closing price (be sure to review last lab's time series section for an easy way to do this).\n",
    "2. The second subplot will be a bar plot showing the net effect this had monthly.\n",
    "3. Bonus 1: Color the bars by whether they are gains in the stock price (green) or drops in the stock price (red).\n",
    "4. Bonus 2: Modify the *x*-axis of the bar plot to show the three-letter abbreviation for the month."
   ]
  },
  {
   "cell_type": "code",
   "execution_count": null,
   "metadata": {},
   "outputs": [],
   "source": [
    "series = (fb.open - fb.close.shift())\n",
    "monthly_effect = series.resample('1M').sum()\n",
    "\n",
    "fig, axes = plt.subplots(1, 2, figsize=(10, 3))\n",
    "\n",
    "series.plot(\n",
    "    ax=axes[0],\n",
    "    title='After hours trading\\n(Open Price - Prior Day\\'s Close)'\n",
    ")\n",
    "\n",
    "monthly_effect.index = monthly_effect.index.strftime('%b')\n",
    "monthly_effect.plot(\n",
    "    ax=axes[1],\n",
    "    kind='bar', \n",
    "    title='After hours trading monthly effect',\n",
    "    color=np.where(monthly_effect >= 0, 'g', 'r'),\n",
    "    rot=0\n",
    ")"
   ]
  },
  {
   "cell_type": "code",
   "execution_count": null,
   "metadata": {},
   "outputs": [],
   "source": []
  }
 ],
 "metadata": {
  "kernelspec": {
   "display_name": "Python 3",
   "language": "python",
   "name": "python3"
  },
  "language_info": {
   "codemirror_mode": {
    "name": "ipython",
    "version": 3
   },
   "file_extension": ".py",
   "mimetype": "text/x-python",
   "name": "python",
   "nbconvert_exporter": "python",
   "pygments_lexer": "ipython3",
   "version": "3.8.6"
  }
 },
 "nbformat": 4,
 "nbformat_minor": 4
}
