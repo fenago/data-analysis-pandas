{
 "cells": [
  {
   "cell_type": "markdown",
   "metadata": {},
   "source": [
    "# Solutions\n",
    "\n",
    "## About the data\n",
    "These exercises use the [`stock_analysis`](https://github.com/fenago/stock-analysis) package for collection of financial data.\n",
    "\n",
    "## Setup"
   ]
  },
  {
   "cell_type": "code",
   "execution_count": null,
   "metadata": {},
   "outputs": [],
   "source": [
    "%matplotlib inline\n",
    "import stock_analysis\n",
    "from stock_analysis.utils import group_stocks\n",
    "\n",
    "start, end = '2019-01-01', '2020-12-31'\n",
    "reader = stock_analysis.StockReader(start, end)\n",
    "\n",
    "# get bitcoin data\n",
    "bitcoin = reader.get_bitcoin_data('USD')\n",
    "\n",
    "# get faang data\n",
    "fb, aapl, amzn, nflx, goog = (\n",
    "    reader.get_ticker_data(ticker)\n",
    "    for ticker in ['FB', 'AAPL', 'AMZN', 'NFLX', 'GOOG']\n",
    ")\n",
    "\n",
    "# get S&P 500 data\n",
    "sp = reader.get_index_data('S&P 500')\n",
    "\n",
    "faang = group_stocks(\n",
    "    {\n",
    "        'Facebook': fb, \n",
    "        'Apple': aapl, \n",
    "        'Amazon': amzn, \n",
    "        'Netflix': nflx, \n",
    "        'Google': goog\n",
    "    }\n",
    ")"
   ]
  },
  {
   "cell_type": "markdown",
   "metadata": {},
   "source": [
    "## Exercise 1\n",
    "Using the `StockAnalyzer` and `StockVisualizer` classes, calculate and plot three levels of support and resistance for Netflix's closing price."
   ]
  },
  {
   "cell_type": "code",
   "execution_count": null,
   "metadata": {},
   "outputs": [],
   "source": [
    "import itertools\n",
    "\n",
    "def levels(analyzer, method):\n",
    "    return [getattr(analyzer, method)(i) for i in range(1, 4)]\n",
    "\n",
    "# calculate support/resistance levels\n",
    "nflx_analyzer = stock_analysis.StockAnalyzer(nflx)\n",
    "support_levels, resistance_levels = (\n",
    "    levels(nflx_analyzer, metric) for metric in ['support', 'resistance']\n",
    ")\n",
    "\n",
    "nflx_viz = stock_analysis.StockVisualizer(nflx)\n",
    "ax = nflx_viz.evolution_over_time('close', figsize=(15, 8), title='NFLX Closing Price')\n",
    "\n",
    "for support, resistance, linestyle, level in zip(\n",
    "    support_levels, resistance_levels, \n",
    "    [':', '--', '-.'], itertools.count(1)\n",
    "):\n",
    "    nflx_viz.add_reference_line(\n",
    "        ax, \n",
    "        y=support, \n",
    "        label=f'support level {level}', \n",
    "        color='green', \n",
    "        linestyle=linestyle\n",
    "    )\n",
    "    nflx_viz.add_reference_line(\n",
    "        ax, \n",
    "        y=resistance, \n",
    "        label=f'resistance level {level}', \n",
    "        color='red', \n",
    "        linestyle=linestyle\n",
    "    )\n",
    "ax.get_legend().remove()\n",
    "ax.set_ylabel('price ($)')"
   ]
  },
  {
   "cell_type": "markdown",
   "metadata": {},
   "source": [
    "## Exercise 2\n",
    "With the `StockVisualizer` class, look at the effect of after-hours trading on the FAANG stocks.\n",
    "1. As individual stocks\n",
    "2. As a portfolio using the sum of their closing and opening prices"
   ]
  },
  {
   "cell_type": "markdown",
   "metadata": {},
   "source": [
    "### Part 1"
   ]
  },
  {
   "cell_type": "code",
   "execution_count": null,
   "metadata": {},
   "outputs": [],
   "source": [
    "stock_analysis.AssetGroupVisualizer(faang).after_hours_trades()"
   ]
  },
  {
   "cell_type": "markdown",
   "metadata": {},
   "source": [
    "### Part 2"
   ]
  },
  {
   "cell_type": "code",
   "execution_count": null,
   "metadata": {},
   "outputs": [],
   "source": [
    "from stock_analysis.utils import make_portfolio\n",
    "\n",
    "stock_analysis.StockVisualizer(make_portfolio(faang)).after_hours_trades()"
   ]
  },
  {
   "cell_type": "markdown",
   "metadata": {},
   "source": [
    "## Exercise 3\n",
    "### FAANG Portfolio\n",
    "Using the `StockVisualizer.open_to_close()` method, create a plot that fills the area between the FAANG portfolio's opening price and its closing price each day in red if the price declined and in green if the price increased."
   ]
  },
  {
   "cell_type": "code",
   "execution_count": null,
   "metadata": {},
   "outputs": [],
   "source": [
    "from matplotlib.ticker import StrMethodFormatter\n",
    "from stock_analysis.utils import make_portfolio\n",
    "\n",
    "ax = stock_analysis.StockVisualizer(make_portfolio(faang)).open_to_close()\n",
    "ax.yaxis.set_major_formatter(StrMethodFormatter('${x:,.0f}'))"
   ]
  },
  {
   "cell_type": "markdown",
   "metadata": {},
   "source": [
    "### Bonus: Portfolio of S&P 500 and Bitcoin\n",
    "Note that after reindexing the S&P 500 data, we can simply add it with the bitcoin data to get the portfolio value:"
   ]
  },
  {
   "cell_type": "code",
   "execution_count": null,
   "metadata": {},
   "outputs": [],
   "source": [
    "import pandas as pd\n",
    "import numpy as np\n",
    "\n",
    "def reindex_stock_data(df):\n",
    "    \"\"\"Handles reindexing of stock data\"\"\"\n",
    "    result = df.copy().reindex(\n",
    "        pd.date_range(start, end=end, freq='D')\n",
    "    ).assign(\n",
    "        volume=lambda x: x.fillna(0),\n",
    "        close=lambda x: x.fillna(method='ffill'),\n",
    "        open=lambda x: x.open.combine_first(x.close),\n",
    "        high=lambda x: x.high.combine_first(x.close),\n",
    "        low=lambda x: x.low.combine_first(x.close)\n",
    "    )\n",
    "    result.index.rename('date', inplace=True)\n",
    "    return result\n",
    "\n",
    "sp_reindexed = reindex_stock_data(sp)\n",
    "\n",
    "ax = stock_analysis.StockVisualizer(bitcoin + sp_reindexed).open_to_close()\n",
    "ax.yaxis.set_major_formatter(StrMethodFormatter('${x:,.0f}'))"
   ]
  },
  {
   "cell_type": "markdown",
   "metadata": {},
   "source": [
    "## Exercise 4\n",
    "Compare a mutual fund or ETF (Exchange Traded Fund) of your choice to 3 of its largest assets (by composition), using annualized volatility and the `AssetGroupAnalyzer` class. These funds are built to mitigate risk, so volatility for the fund will be lower than that of the assets that compose it.\n",
    "\n",
    "*Note: Solution uses the mutual fund FBALX, whose composition can be found at https://fundresearch.fidelity.com/mutual-funds/composition/316345206. Composition used for the solution taken on January 9, 2021.*"
   ]
  },
  {
   "cell_type": "code",
   "execution_count": null,
   "metadata": {},
   "outputs": [],
   "source": [
    "fbalx = reader.get_ticker_data('FBALX')\n",
    "msft = reader.get_ticker_data('MSFT')\n",
    "mutual_fund = group_stocks({\n",
    "    '0 - FBALX': fbalx,\n",
    "    '1 - Microsoft': msft,\n",
    "    '2 - Apple': aapl,\n",
    "    '3 - Amazon': amzn\n",
    "})\n",
    "stock_analysis.AssetGroupAnalyzer(mutual_fund).analyze('annualized_volatility')"
   ]
  },
  {
   "cell_type": "markdown",
   "metadata": {},
   "source": [
    "## Exercise 5\n",
    "Write a function that returns a dataframe of one row with columns `alpha`, `beta`, `sharpe_ratio`, `annualized_volatility`, `is_bear_market`, and `is_bull_market` which each contain the results of running the respective methods on a given stock using the `StockAnalyzer` class. Here, we are using the 10-year US Treasury Bill for the risk-free rate of return. You can look up rates [here](https://www.treasury.gov/resource-center/data-chart-center/interest-rates/pages/TextView.aspx?data=yield) or use the `StockReader.get_risk_free_rate_of_return()` method."
   ]
  },
  {
   "cell_type": "code",
   "execution_count": null,
   "metadata": {},
   "outputs": [],
   "source": [
    "import pandas as pd\n",
    "\n",
    "def metric_table(stock, index, r_f):\n",
    "    \"\"\"\n",
    "    Make a table of metrics for a stock.\n",
    "\n",
    "    Parameters:\n",
    "        - stock: The stock's dataframe.\n",
    "        - index: The dataframe for the index.\n",
    "        - r_f: Risk-free rate of return\n",
    "     \n",
    "    Returns:\n",
    "        A `pandas.DataFrame` object with a single row of metrics\n",
    "    \"\"\"\n",
    "    return pd.DataFrame({\n",
    "        metric: getattr(\n",
    "            stock_analysis.StockAnalyzer(stock), \n",
    "            metric\n",
    "        )(**kwargs) \\\n",
    "        for metric, kwargs in {\n",
    "            'alpha': {'index': index, 'r_f': r_f}, \n",
    "            'beta': {'index': index}, \n",
    "            'sharpe_ratio': {'r_f': r_f},\n",
    "            'annualized_volatility': {},\n",
    "            'is_bear_market': {},\n",
    "            'is_bull_market': {}\n",
    "        }.items()\n",
    "    }, index=range(1))\n",
    "\n",
    "# test out the function\n",
    "metric_table(fbalx, sp, r_f=reader.get_risk_free_rate_of_return())"
   ]
  },
  {
   "cell_type": "markdown",
   "metadata": {},
   "source": [
    "## Exercise 6\n",
    "\n",
    "With the `StockModeler` class, build an ARIMA model fit on the S&P 500 data from January 1, 2019 through November 30, 2020 and use it to predict the performance in December 2020. Be sure to examine the residuals and compare the predicted performance to the actual performance.\n",
    "\n",
    "First, isolate the data for training the model and testing it:"
   ]
  },
  {
   "cell_type": "code",
   "execution_count": null,
   "metadata": {},
   "outputs": [],
   "source": [
    "train, test = sp['2019':'2020-11'], sp.loc['2020-12']"
   ]
  },
  {
   "cell_type": "markdown",
   "metadata": {},
   "source": [
    "Look at the autocorrelation plot:"
   ]
  },
  {
   "cell_type": "code",
   "execution_count": null,
   "metadata": {},
   "outputs": [],
   "source": [
    "# we can use autocorrelation plots to find a good starting point for ARIMA\n",
    "from pandas.plotting import autocorrelation_plot\n",
    "autocorrelation_plot(train.close)"
   ]
  },
  {
   "cell_type": "markdown",
   "metadata": {},
   "source": [
    "An example ARIMA model that fits in a reasonable amount of time:"
   ]
  },
  {
   "cell_type": "code",
   "execution_count": null,
   "metadata": {},
   "outputs": [],
   "source": [
    "%%capture\n",
    "from stock_analysis import StockModeler\n",
    "arima_model = StockModeler.arima(train, ar=15, i=1, ma=5)"
   ]
  },
  {
   "cell_type": "markdown",
   "metadata": {},
   "source": [
    "Examine the residuals:"
   ]
  },
  {
   "cell_type": "code",
   "execution_count": null,
   "metadata": {},
   "outputs": [],
   "source": [
    "StockModeler.plot_residuals(arima_model)"
   ]
  },
  {
   "cell_type": "markdown",
   "metadata": {},
   "source": [
    "Compare the ARIMA model's predictions to what actually happened:"
   ]
  },
  {
   "cell_type": "code",
   "execution_count": null,
   "metadata": {},
   "outputs": [],
   "source": [
    "from matplotlib.ticker import EngFormatter\n",
    "\n",
    "dates = test.index\n",
    "\n",
    "arima_ax = StockModeler.arima_predictions(\n",
    "    train, arima_model, start=dates[0], end=dates[-1],\n",
    "    title='ARIMA', color='b', figsize=(15, 3), alpha=0.5\n",
    ")\n",
    "test.close.plot(ax=arima_ax, style='b--', label='actual close', alpha=0.5)\n",
    "arima_ax.legend()\n",
    "arima_ax.set_ylabel('price ($)')\n",
    "arima_ax.yaxis.set_major_formatter(EngFormatter())\n",
    "\n",
    "for spine in ['top', 'right']:\n",
    "    arima_ax.spines[spine].set_visible(False)"
   ]
  },
  {
   "cell_type": "markdown",
   "metadata": {},
   "source": [
    "## Exercise 7\n",
    "Create an API key for AlphaVantage [here](https://www.alphavantage.co/support/#api-key) and collect the daily foreign exchange rate from USD to JPY using the `StockReader.get_forex_rates()` method. Be sure to use the same `StockReader` object you created to collect the stock data. Build a candlestick plot with the data from February 2019 through January 2020, resampled to one-week intervals. Hint: take a look at [the `slice()` function](https://docs.python.org/3/library/functions.html#slice) in order to provide the date range."
   ]
  },
  {
   "cell_type": "code",
   "execution_count": null,
   "metadata": {},
   "outputs": [],
   "source": [
    "forex = reader.get_forex_rates('USD', 'JPY', api_key='PASTE_YOUR_API_KEY_HERE')\n",
    "stock_analysis.StockVisualizer(forex).candlestick(date_range=slice('2019-02-01', '2020-01-31'), resample='1W')"
   ]
  },
  {
   "cell_type": "code",
   "execution_count": null,
   "metadata": {},
   "outputs": [],
   "source": []
  }
 ],
 "metadata": {
  "kernelspec": {
   "display_name": "Python 3",
   "language": "python",
   "name": "python3"
  },
  "language_info": {
   "codemirror_mode": {
    "name": "ipython",
    "version": 3
   },
   "file_extension": ".py",
   "mimetype": "text/x-python",
   "name": "python",
   "nbconvert_exporter": "python",
   "pygments_lexer": "ipython3",
   "version": "3.8.6"
  }
 },
 "nbformat": 4,
 "nbformat_minor": 4
}
