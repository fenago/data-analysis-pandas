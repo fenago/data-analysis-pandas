{
 "cells": [
  {
   "cell_type": "markdown",
   "metadata": {},
   "source": [
    "# Solutions\n",
    "## Thought exercises\n",
    "1. Explore the JupyterLab interface and look at some of the shortcuts available. Don't worry about memorizing them now (eventually they will become second nature and save you a lot of time), just get comfortable using notebooks.\n",
    "2. Is all data normally distributed? \n",
    "> No. Even data that might appear to be normally distributed could belong to a different distribution. There are tests to check for normality. You can read more [here](https://machinelearningmastery.com/a-gentle-introduction-to-normality-tests-in-python/).\n",
    "3. When would it make more sense to use the median instead of the mean for the measure of center? \n",
    "> When your data has outliers, it may make more sense to use the median over the mean as your measure of center.\n",
    "\n",
    "## Coding exercises\n",
    "If you need a Python refresher, work through the [`python_101.ipynb`](../../lab_01/python_101.ipynb) notebook in lab 1.\n",
    "\n",
    "### Exercise 4: Generate the data"
   ]
  },
  {
   "cell_type": "code",
   "execution_count": null,
   "metadata": {},
   "outputs": [],
   "source": [
    "import random\n",
    "\n",
    "random.seed(0)\n",
    "salaries = [round(random.random()*1000000, -3) for _ in range(100)]"
   ]
  },
  {
   "cell_type": "markdown",
   "metadata": {},
   "source": [
    "### Exercise 5: Calculating statistics and verifying\n",
    "#### mean"
   ]
  },
  {
   "cell_type": "code",
   "execution_count": null,
   "metadata": {},
   "outputs": [],
   "source": [
    "from statistics import mean\n",
    "\n",
    "sum(salaries) / len(salaries) == mean(salaries)"
   ]
  },
  {
   "cell_type": "markdown",
   "metadata": {},
   "source": [
    "#### median\n",
    "\n",
    "First, we define a function to calculate the median:"
   ]
  },
  {
   "cell_type": "code",
   "execution_count": null,
   "metadata": {},
   "outputs": [],
   "source": [
    "import math\n",
    "\n",
    "def find_median(x):\n",
    "    x.sort()\n",
    "    midpoint = (len(x) + 1) / 2 - 1 # subtract 1 bc index starts at 0\n",
    "    if len(x) % 2:\n",
    "        # x has odd number of values\n",
    "        return x[int(midpoint)]\n",
    "    else:\n",
    "        return (x[math.floor(midpoint)] + x[math.ceil(midpoint)]) / 2"
   ]
  },
  {
   "cell_type": "markdown",
   "metadata": {},
   "source": [
    "Then, we check its output matches the expected output:"
   ]
  },
  {
   "cell_type": "code",
   "execution_count": null,
   "metadata": {},
   "outputs": [],
   "source": [
    "from statistics import median\n",
    "\n",
    "find_median(salaries) == median(salaries)"
   ]
  },
  {
   "cell_type": "markdown",
   "metadata": {},
   "source": [
    "#### mode"
   ]
  },
  {
   "cell_type": "code",
   "execution_count": null,
   "metadata": {},
   "outputs": [],
   "source": [
    "from statistics import mode\n",
    "from collections import Counter\n",
    "\n",
    "Counter(salaries).most_common(1)[0][0] == mode(salaries)"
   ]
  },
  {
   "cell_type": "markdown",
   "metadata": {},
   "source": [
    "#### sample variance\n",
    "Remember to use Bessel's correction."
   ]
  },
  {
   "cell_type": "code",
   "execution_count": null,
   "metadata": {},
   "outputs": [],
   "source": [
    "from statistics import variance\n",
    "\n",
    "sum([(x - sum(salaries) / len(salaries))**2 for x in salaries]) / (len(salaries) - 1) == variance(salaries)"
   ]
  },
  {
   "cell_type": "markdown",
   "metadata": {},
   "source": [
    "#### sample standard deviation\n",
    "Remember to use Bessel's correction."
   ]
  },
  {
   "cell_type": "code",
   "execution_count": null,
   "metadata": {},
   "outputs": [],
   "source": [
    "from statistics import stdev\n",
    "import math\n",
    "\n",
    "math.sqrt(sum([(x - sum(salaries) / len(salaries))**2 for x in salaries]) / (len(salaries) - 1)) == stdev(salaries)"
   ]
  },
  {
   "cell_type": "markdown",
   "metadata": {},
   "source": [
    "### Exercise 6: Calculating more statistics\n",
    "#### range"
   ]
  },
  {
   "cell_type": "code",
   "execution_count": null,
   "metadata": {},
   "outputs": [],
   "source": [
    "max(salaries) - min(salaries)"
   ]
  },
  {
   "cell_type": "markdown",
   "metadata": {},
   "source": [
    "#### coefficient of variation"
   ]
  },
  {
   "cell_type": "code",
   "execution_count": null,
   "metadata": {},
   "outputs": [],
   "source": [
    "from statistics import mean, stdev\n",
    "\n",
    "stdev(salaries) / mean(salaries)"
   ]
  },
  {
   "cell_type": "markdown",
   "metadata": {},
   "source": [
    "#### interquartile range\n",
    "First, we define function to calculate a quantile:"
   ]
  },
  {
   "cell_type": "code",
   "execution_count": null,
   "metadata": {},
   "outputs": [],
   "source": [
    "import math\n",
    "\n",
    "def quantile(x, pct):\n",
    "    x.sort()\n",
    "    index = (len(x) + 1) * pct - 1\n",
    "    if len(x) % 2:\n",
    "        # odd, so grab the value at index\n",
    "        return x[int(index)]\n",
    "    else:\n",
    "        return (x[math.floor(index)] + x[math.ceil(index)]) / 2"
   ]
  },
  {
   "cell_type": "markdown",
   "metadata": {},
   "source": [
    "Then, we check that it calculates the 1<sup>st</sup> quantile correctly:"
   ]
  },
  {
   "cell_type": "code",
   "execution_count": null,
   "metadata": {},
   "outputs": [],
   "source": [
    "sum([x < quantile(salaries, 0.25) for x in salaries]) / len(salaries) == 0.25"
   ]
  },
  {
   "cell_type": "markdown",
   "metadata": {},
   "source": [
    "and the 3<sup>rd</sup> quantile:"
   ]
  },
  {
   "cell_type": "code",
   "execution_count": null,
   "metadata": {},
   "outputs": [],
   "source": [
    "sum([x < quantile(salaries, 0.75) for x in salaries]) / len(salaries) == 0.75"
   ]
  },
  {
   "cell_type": "markdown",
   "metadata": {},
   "source": [
    "Finally, we can calculate the IQR:"
   ]
  },
  {
   "cell_type": "code",
   "execution_count": null,
   "metadata": {},
   "outputs": [],
   "source": [
    "q3, q1 = quantile(salaries, 0.75), quantile(salaries, 0.25)\n",
    "iqr = q3 - q1\n",
    "iqr"
   ]
  },
  {
   "cell_type": "markdown",
   "metadata": {},
   "source": [
    "#### quartile coefficent of dispersion"
   ]
  },
  {
   "cell_type": "code",
   "execution_count": null,
   "metadata": {},
   "outputs": [],
   "source": [
    "iqr / (q1 + q3)"
   ]
  },
  {
   "cell_type": "markdown",
   "metadata": {},
   "source": [
    "### Exercise 7: Scaling data\n",
    "#### min-max scaling"
   ]
  },
  {
   "cell_type": "code",
   "execution_count": null,
   "metadata": {},
   "outputs": [],
   "source": [
    "min_salary, max_salary = min(salaries), max(salaries)\n",
    "salary_range = max_salary - min_salary\n",
    "\n",
    "min_max_scaled = [(x - min_salary) / salary_range for x in salaries]\n",
    "min_max_scaled[:5]"
   ]
  },
  {
   "cell_type": "markdown",
   "metadata": {},
   "source": [
    "#### standardizing"
   ]
  },
  {
   "cell_type": "code",
   "execution_count": null,
   "metadata": {},
   "outputs": [],
   "source": [
    "from statistics import mean, stdev\n",
    "\n",
    "mean_salary, std_salary = mean(salaries), stdev(salaries)\n",
    "\n",
    "standardized = [(x - mean_salary) / std_salary for x in salaries]\n",
    "standardized[:5]"
   ]
  },
  {
   "cell_type": "markdown",
   "metadata": {},
   "source": [
    "### Exercise 8: Calculating covariance and correlation\n",
    "#### covariance\n",
    "We haven't covered NumPy yet, so this is just here to check our solution (0.26) &mdash; there will be rounding errors on our calculation:"
   ]
  },
  {
   "cell_type": "code",
   "execution_count": null,
   "metadata": {},
   "outputs": [],
   "source": [
    "import numpy as np\n",
    "np.cov(min_max_scaled, standardized)"
   ]
  },
  {
   "cell_type": "markdown",
   "metadata": {},
   "source": [
    "Our method, aside from rounding errors, gives us the same answer as NumPy:"
   ]
  },
  {
   "cell_type": "code",
   "execution_count": null,
   "metadata": {},
   "outputs": [],
   "source": [
    "from statistics import mean\n",
    "\n",
    "running_total = [\n",
    "    (x - mean(min_max_scaled)) * (y - mean(standardized))\n",
    "    for x, y in zip(min_max_scaled, standardized)\n",
    "]\n",
    "\n",
    "cov = mean(running_total)\n",
    "cov"
   ]
  },
  {
   "cell_type": "markdown",
   "metadata": {},
   "source": [
    "#### Pearson correlation coefficient ($\\rho$)"
   ]
  },
  {
   "cell_type": "code",
   "execution_count": null,
   "metadata": {},
   "outputs": [],
   "source": [
    "from statistics import stdev\n",
    "cov / (stdev(min_max_scaled) * stdev(standardized))"
   ]
  },
  {
   "cell_type": "code",
   "execution_count": null,
   "metadata": {},
   "outputs": [],
   "source": []
  }
 ],
 "metadata": {
  "kernelspec": {
   "display_name": "Python 3",
   "language": "python",
   "name": "python3"
  },
  "language_info": {
   "codemirror_mode": {
    "name": "ipython",
    "version": 3
   },
   "file_extension": ".py",
   "mimetype": "text/x-python",
   "name": "python",
   "nbconvert_exporter": "python",
   "pygments_lexer": "ipython3",
   "version": "3.8.6"
  }
 },
 "nbformat": 4,
 "nbformat_minor": 4
}
