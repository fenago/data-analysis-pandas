{
 "cells": [
  {
   "cell_type": "markdown",
   "metadata": {},
   "source": [
    "# Solutions\n",
    "\n",
    "## About the Data\n",
    "In this notebook, we will be working with 3 datasets:\n",
    "- Facebook's stock price throughout 2018 (obtained using the [`stock_analysis` package](https://github.com/fenago/stock-analysis))\n",
    "- Earthquake data from September 18, 2018 - October 13, 2018 (obtained from the US Geological Survey (USGS) using the [USGS API](https://earthquake.usgs.gov/fdsnws/event/1/))\n",
    "- European Centre for Disease Prevention and Control's (ECDC) [daily number of new reported cases of COVID-19 by country worldwide dataset](https://www.ecdc.europa.eu/en/publications-data/download-todays-data-geographic-distribution-covid-19-cases-worldwide) collected on September 19, 2020 via [this link](https://opendata.ecdc.europa.eu/covid19/casedistribution/csv)\n",
    "\n",
    "## Setup"
   ]
  },
  {
   "cell_type": "code",
   "execution_count": null,
   "metadata": {},
   "outputs": [],
   "source": [
    "%matplotlib inline\n",
    "import matplotlib.pyplot as plt\n",
    "import numpy as np\n",
    "import pandas as pd\n",
    "import seaborn as sns\n",
    "\n",
    "fb = pd.read_csv('../../lab_06/data/fb_stock_prices_2018.csv', index_col='date', parse_dates=True)\n",
    "quakes = pd.read_csv('../../lab_06/data/earthquakes.csv')\n",
    "covid = pd.read_csv('../../lab_06/data/covid19_cases.csv').assign(\n",
    "    date=lambda x: pd.to_datetime(x.dateRep, format='%d/%m/%Y')\n",
    ").set_index('date').replace(\n",
    "    'United_States_of_America', 'USA'\n",
    ").sort_index()['2020-01-18':'2020-09-18']"
   ]
  },
  {
   "cell_type": "markdown",
   "metadata": {},
   "source": [
    "## Exercise 1\n",
    "Using `seaborn`, create a heatmap to visualize the correlation coefficients between earthquake magnitude and whether there was a tsunami with the `mb` magnitude type."
   ]
  },
  {
   "cell_type": "code",
   "execution_count": null,
   "metadata": {},
   "outputs": [],
   "source": [
    "sns.heatmap(\n",
    "    quakes.query('magType == \"mb\"')[['mag','tsunami']].corr(), \n",
    "    annot=True, center=0, vmin=-1, vmax=1\n",
    ")\n",
    "plt.yticks(rotation=0)\n",
    "plt.title('Correlation between earthquake magnitude\\nand whether there was a tsunami', y=1.01)"
   ]
  },
  {
   "cell_type": "markdown",
   "metadata": {},
   "source": [
    "## Exercise 2\n",
    "Create a box plot of Facebook volume traded and closing price and draw reference lines for the bounds of a Tukey fence with a multiplier of 1.5. "
   ]
  },
  {
   "cell_type": "code",
   "execution_count": null,
   "metadata": {},
   "outputs": [],
   "source": [
    "cols = ['volume', 'close']\n",
    "subset = fb[cols]\n",
    "\n",
    "quantiles = subset.quantile([0.25, 0.75])\n",
    "quantiles.loc['iqr',:] = quantiles.loc[0.75,:] - quantiles.loc[0.25,:]\n",
    "\n",
    "axes = subset.plot(kind='box', subplots=True, figsize=(8, 3), title=['Volume Traded', 'Closing Price'])\n",
    "for ax, col in zip(axes, cols):\n",
    "    stats = quantiles[col]\n",
    "    lower = stats.loc[0.25] - 1.5 * stats['iqr']\n",
    "    upper = stats.loc[0.75] + 1.5 * stats['iqr']\n",
    "    for bound, name in zip([lower, upper], ['lower', 'upper']):\n",
    "        ax.axhline(\n",
    "            bound, \n",
    "            color='red', \n",
    "            linestyle='dashed',\n",
    "            label=name\n",
    "        )\n",
    "        ax.legend()\n",
    "plt.suptitle('Facebook volume traded and closing price with Tukey Fence bounds', y=1.1)"
   ]
  },
  {
   "cell_type": "markdown",
   "metadata": {},
   "source": [
    "## Exercise 3\n",
    "Plot the evolution of cumulative COVID-19 cases worldwide and add a dashed vertical line for on the date that it surpassed 1 million."
   ]
  },
  {
   "cell_type": "code",
   "execution_count": null,
   "metadata": {},
   "outputs": [],
   "source": [
    "from matplotlib.ticker import EngFormatter\n",
    "\n",
    "cumulative_cases = covid.groupby(pd.Grouper(freq='1D')).sum().cases.cumsum()\n",
    "\n",
    "ax = cumulative_cases.plot(title='Cumulative COVID-19 Cases Worldwide\\n(source: ECDC)', figsize=(10, 4))\n",
    "ax.set_ylabel('cumulative COVID-19 cases')\n",
    "ax.yaxis.set_major_formatter(EngFormatter())\n",
    "\n",
    "over_1M = cumulative_cases[cumulative_cases >= 1e6].index[0]\n",
    "ax.axvline(over_1M, linestyle='dashed', color='k', alpha=0.5, label=f\"Reached 1M on {over_1M.strftime('%Y-%m-%d')}\")\n",
    "\n",
    "ax.legend()"
   ]
  },
  {
   "cell_type": "markdown",
   "metadata": {},
   "source": [
    "## Exercise 4\n",
    "Use `axvspan()` to shade a rectangle from '2018-07-25' to '2018-07-31' marking the large decline in Facebook price on a line plot of closing price."
   ]
  },
  {
   "cell_type": "code",
   "execution_count": null,
   "metadata": {},
   "outputs": [],
   "source": [
    "fb.close.plot(kind='line', figsize=(10, 3))\n",
    "plt.axvspan(\n",
    "    '2018-07-25', '2018-07-31', alpha=0.2, label='July decline',\n",
    ")\n",
    "plt.ylabel('Price ($)')\n",
    "plt.suptitle('Facebook Closing Price')\n",
    "plt.legend()"
   ]
  },
  {
   "cell_type": "markdown",
   "metadata": {},
   "source": [
    "## Exercise 5\n",
    "Using the Facebook stock data, annotate the following three events on a line graph of closing price:\n",
    "1. 'Disappointing user growth announced after close' on July 25, 2018\n",
    "2. 'Cambridge Analytica story breaks' on March 19, 2018 (when it affected the market)\n",
    "3. 'FTC launches investigation' on March 20, 2018"
   ]
  },
  {
   "cell_type": "code",
   "execution_count": null,
   "metadata": {},
   "outputs": [],
   "source": [
    "fb.close.plot(kind='line', figsize=(5, 3))\n",
    "\n",
    "notes = [\n",
    "    ('Disappointing user growth announced after close', '2018-07-25'),\n",
    "    ('Cambridge Analytica story breaks', '2018-03-19'),\n",
    "    ('FTC launches investigation', '2018-03-20')\n",
    "]\n",
    "\n",
    "# for repeatable random jitter\n",
    "np.random.seed(1)\n",
    "\n",
    "for text, date in notes:\n",
    "    y_value = fb.close[date]\n",
    "    jitter = np.random.uniform(-20, -10, 1)\n",
    "    plt.annotate(\n",
    "        text, \n",
    "        xy=(date, y_value),\n",
    "        xytext=('2019-02-25', y_value + jitter),\n",
    "        arrowprops=dict(arrowstyle='->')\n",
    "    )\n",
    "plt.ylabel('Price ($)')\n",
    "plt.suptitle('Facebook Closing Price')"
   ]
  },
  {
   "cell_type": "markdown",
   "metadata": {},
   "source": [
    "## Exercise 6\n",
    "Modify the `reg_resid_plot()` function to use a matplotlib colormap instead of cycling between two colors. Remember, for this use case, you should pick a qualitative colormap or make your own."
   ]
  },
  {
   "cell_type": "code",
   "execution_count": null,
   "metadata": {},
   "outputs": [],
   "source": [
    "import itertools\n",
    "\n",
    "import matplotlib.pyplot as plt\n",
    "from matplotlib import cm\n",
    "import seaborn as sns\n",
    "\n",
    "\n",
    "def reg_resid_plots(data):\n",
    "    \"\"\"\n",
    "    Using `seaborn`, plot the regression and residuals\n",
    "    plots side-by-side for every permutation of 2 columns \n",
    "    in the data.\n",
    "\n",
    "    Parameters:\n",
    "        - data: A `pandas.DataFrame` object\n",
    "\n",
    "    Returns:\n",
    "        A matplotlib `Axes` object.\n",
    "    \"\"\"\n",
    "    num_cols = data.shape[1]\n",
    "    permutation_count = num_cols * (num_cols - 1)\n",
    "\n",
    "    fig, ax = plt.subplots(\n",
    "        permutation_count, \n",
    "        2, \n",
    "        figsize=(15, 4 * permutation_count)\n",
    "    )\n",
    "\n",
    "    for (x, y), axes, color in zip(\n",
    "        itertools.permutations(data.columns, 2), \n",
    "        ax,\n",
    "        [cm.Dark2(i) for i in range(len(ax))]\n",
    "    ):\n",
    "        for subplot, func in zip(axes, (sns.regplot, sns.residplot)):\n",
    "            func(x=x, y=y, data=data, ax=subplot, color=color)\n",
    "            \n",
    "            if func == sns.residplot:\n",
    "                # mark the residuals as such\n",
    "                subplot.set_ylabel('residuals')\n",
    "\n",
    "    return fig.axes"
   ]
  },
  {
   "cell_type": "markdown",
   "metadata": {},
   "source": [
    "Test it out:"
   ]
  },
  {
   "cell_type": "code",
   "execution_count": null,
   "metadata": {},
   "outputs": [],
   "source": [
    "reg_resid_plots(fb[['close', 'volume']])"
   ]
  },
  {
   "cell_type": "code",
   "execution_count": null,
   "metadata": {},
   "outputs": [],
   "source": []
  }
 ],
 "metadata": {
  "kernelspec": {
   "display_name": "Python 3",
   "language": "python",
   "name": "python3"
  },
  "language_info": {
   "codemirror_mode": {
    "name": "ipython",
    "version": 3
   },
   "file_extension": ".py",
   "mimetype": "text/x-python",
   "name": "python",
   "nbconvert_exporter": "python",
   "pygments_lexer": "ipython3",
   "version": "3.8.6"
  }
 },
 "nbformat": 4,
 "nbformat_minor": 4
}
