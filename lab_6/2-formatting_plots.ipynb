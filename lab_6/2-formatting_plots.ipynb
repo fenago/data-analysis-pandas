{
 "cells": [
  {
   "cell_type": "markdown",
   "metadata": {},
   "source": [
    "# Formatting Plots\n",
    "\n",
    "## About the Data\n",
    "In this notebook, we will be working with 2 datasets:\n",
    "- Facebook's stock price throughout 2018 (obtained using the [`stock_analysis` package](https://github.com/fenago/stock-analysis))\n",
    "- European Centre for Disease Prevention and Control's (ECDC) [daily number of new reported cases of COVID-19 by country worldwide dataset](https://www.ecdc.europa.eu/en/publications-data/download-todays-data-geographic-distribution-covid-19-cases-worldwide) collected on September 19, 2020 via [this link](https://opendata.ecdc.europa.eu/covid19/casedistribution/csv)\n",
    "\n",
    "## Setup"
   ]
  },
  {
   "cell_type": "code",
   "execution_count": null,
   "metadata": {},
   "outputs": [],
   "source": [
    "%matplotlib inline\n",
    "import matplotlib.pyplot as plt\n",
    "import numpy as np\n",
    "import pandas as pd\n",
    "\n",
    "fb = pd.read_csv(\n",
    "    'data/fb_stock_prices_2018.csv', index_col='date', parse_dates=True\n",
    ")\n",
    "covid = pd.read_csv('data/covid19_cases.csv').assign(\n",
    "    date=lambda x: pd.to_datetime(x.dateRep, format='%d/%m/%Y')\n",
    ").set_index('date').replace(\n",
    "    'United_States_of_America', 'USA'\n",
    ").sort_index()['2020-01-18':'2020-09-18']"
   ]
  },
  {
   "cell_type": "markdown",
   "metadata": {},
   "source": [
    "## Titles and Axis Labels\n",
    "- `plt.suptitle()` adds a title to plots and subplots\n",
    "- `plt.title()` adds a title to a single plot. Note if you use subplots, it will only put the title on the last subplot, so you will need to use `plt.suptitle()`\n",
    "- `plt.xlabel()` labels the x-axis\n",
    "- `plt.ylabel()` labels the y-axis"
   ]
  },
  {
   "cell_type": "code",
   "execution_count": null,
   "metadata": {},
   "outputs": [],
   "source": [
    "fb.close.plot()\n",
    "plt.title('FB Closing Price')\n",
    "plt.xlabel('date')\n",
    "plt.ylabel('price ($)')"
   ]
  },
  {
   "cell_type": "markdown",
   "metadata": {},
   "source": [
    "### `plt.suptitle()` vs. `plt.title()`\n",
    "Check out what happens when we call `plt.title()` with subplots (and also `plt.ylabel()`):"
   ]
  },
  {
   "cell_type": "code",
   "execution_count": null,
   "metadata": {},
   "outputs": [],
   "source": [
    "fb.iloc[:,:4].plot(subplots=True, layout=(2, 2), figsize=(12, 5))\n",
    "plt.title('Facebook 2018 Stock Data')\n",
    "plt.ylabel('price ($)')"
   ]
  },
  {
   "cell_type": "markdown",
   "metadata": {},
   "source": [
    "Using `plt.suptitle()` will give the figure a title; for the y-axis labels, we need to use the `Axes` objects directly:"
   ]
  },
  {
   "cell_type": "code",
   "execution_count": null,
   "metadata": {},
   "outputs": [],
   "source": [
    "axes = fb.iloc[:,:4].plot(subplots=True, layout=(2, 2), figsize=(12, 5))\n",
    "plt.suptitle('Facebook 2018 Stock Data')\n",
    "for ax in axes.flatten():\n",
    "    ax.set_ylabel('price ($)')"
   ]
  },
  {
   "cell_type": "markdown",
   "metadata": {},
   "source": [
    "## Legends\n",
    "Matplotlib makes it possible to control many aspects of how the legend looks including its appearance and location. Here is a sampling of commonly used parameters, which we will see throughout the course:\n",
    "\n",
    "| Parameter | Purpose |\n",
    "| --- | --- |\n",
    "| `loc` | Specify the location of the legend |\n",
    "| `bbox_to_anchor` | Used in conjunction with `loc` to specify legend location |\n",
    "| `ncol` | Set the number of columns the labels will be broken into, default is 1 |\n",
    "| `framealpha` | Control the transparency of the legend's background |\n",
    "| `title` | Give the legend a title |\n",
    "\n",
    "`plt.legend()` adds a legend to the plot. We can specify where to place it with the `loc` parameter:"
   ]
  },
  {
   "cell_type": "code",
   "execution_count": null,
   "metadata": {},
   "outputs": [],
   "source": [
    "fb.assign(\n",
    "    ma=lambda x: x.close.rolling(20).mean()\n",
    ").plot(\n",
    "    y=['close', 'ma'], \n",
    "    title='FB closing price in 2018',\n",
    "    label=['closing price', '20D moving average'],\n",
    "    style=['-', '--']\n",
    ")\n",
    "plt.legend(loc='lower left')\n",
    "plt.ylabel('price ($)')"
   ]
  },
  {
   "cell_type": "markdown",
   "metadata": {},
   "source": [
    "By default, `matplotlib` tries to find the best location for the legend, but we can override it as we see fit. Here are the available general locations, but note that you can always provide an (x, y) tuple of where to place the legend:\n",
    "\n",
    "| Location String | Location Code |\n",
    "| --- | --- |\n",
    "| `'best'` | `0` |\n",
    "| `'upper right'` | `1` |\n",
    "| `'upper left'` | `2` |\n",
    "| `'lower left'` | `3` |\n",
    "| `'lower right'` | `4` |\n",
    "| `'right'` | `5` |\n",
    "| `'center left'` | `6` |\n",
    "| `'center right'` | `7` |\n",
    "| `'lower center'` | `8` |\n",
    "| `'upper center'` | `9` |\n",
    "| `'center'` | `10` |\n",
    "\n",
    "Note there is also a `legend()` method on `Axes` objects. Let's use it along with the `framealpha` and `ncol` arguments to style a legend. We will take a look at the percentage of the world's new COVID-19 cases that occurred in Brazil, China, India, Italy, Spain, and the USA over the 8-month period from January 18, 2020 through September 18, 2020:"
   ]
  },
  {
   "cell_type": "code",
   "execution_count": null,
   "metadata": {},
   "outputs": [],
   "source": [
    "new_cases = covid.reset_index().pivot(\n",
    "    index='date', columns='countriesAndTerritories', values='cases'\n",
    ").fillna(0)\n",
    "\n",
    "pct_new_cases = new_cases.apply(lambda x: x / new_cases.apply('sum', axis=1), axis=0)[\n",
    "    ['Italy', 'China', 'Spain', 'USA', 'India', 'Brazil']\n",
    "].sort_index(axis=1).fillna(0)\n",
    "\n",
    "ax = pct_new_cases.plot(\n",
    "    figsize=(12, 7), style=['-'] * 3 + ['--', ':', '-.'],\n",
    "    title='Percentage of the World\\'s New COVID-19 Cases\\n(source: ECDC)'\n",
    ")\n",
    "\n",
    "ax.legend(title='Country', framealpha=0.5, ncol=2)\n",
    "ax.set_xlabel('')\n",
    "ax.set_ylabel('percentage of the world\\'s COVID-19 cases')\n",
    "\n",
    "for spine in ['top', 'right']:\n",
    "    ax.spines[spine].set_visible(False)"
   ]
  },
  {
   "cell_type": "markdown",
   "metadata": {},
   "source": [
    "## Formatting Axes\n",
    "### Specifying axis limits\n",
    "`plt.xlim()`/`plt.ylim()` and `Axes.set_xlim()`/`Axes.set_ylim()` can be used to specify the minimum and maximum values for the axis. Passing `None` will have `matplotlib` determine the limit."
   ]
  },
  {
   "cell_type": "code",
   "execution_count": null,
   "metadata": {},
   "outputs": [],
   "source": [
    "ax = pct_new_cases.plot(\n",
    "    figsize=(12, 7), style=['-'] * 3 + ['--', ':', '-.'],\n",
    "    title='Percentage of the World\\'s New COVID-19 Cases\\n(source: ECDC)'\n",
    ")\n",
    "\n",
    "ax.legend(framealpha=0.5, ncol=2)\n",
    "ax.set_xlabel('')\n",
    "ax.set_ylabel('percentage of the world\\'s COVID-19 cases')\n",
    "ax.set_ylim(0, None)\n",
    "\n",
    "for spine in ['top', 'right']:\n",
    "    ax.spines[spine].set_visible(False)"
   ]
  },
  {
   "cell_type": "markdown",
   "metadata": {},
   "source": [
    "### Formatting the Axis Ticks\n",
    "We can use `plt.xticks()` and `plt.yticks()` to provide tick labels and specify, which ticks to show. Here, we show every month on the same day of the month (the 18th):"
   ]
  },
  {
   "cell_type": "code",
   "execution_count": null,
   "metadata": {},
   "outputs": [],
   "source": [
    "ax = pct_new_cases.plot(\n",
    "    figsize=(12, 7), style=['-'] * 3 + ['--', ':', '-.'],\n",
    "    title='Percentage of the World\\'s New COVID-19 Cases\\n(source: ECDC)'\n",
    ")\n",
    "\n",
    "tick_locs = covid.index[covid.index.day == 18].unique()\n",
    "tick_labels = [loc.strftime('%b %d\\n%Y') for loc in tick_locs]\n",
    "plt.xticks(tick_locs, tick_labels)\n",
    "\n",
    "ax.legend(framealpha=0.5, ncol=2)\n",
    "ax.set_xlabel('')\n",
    "ax.set_ylabel('percentage of the world\\'s COVID-19 cases')\n",
    "ax.set_ylim(0, None)\n",
    "\n",
    "for spine in ['top', 'right']:\n",
    "    ax.spines[spine].set_visible(False)"
   ]
  },
  {
   "cell_type": "markdown",
   "metadata": {},
   "source": [
    "#### The `matplotlib.ticker` module\n",
    "##### `PercentFormatter`\n",
    "We can use the `PercentFormatter` class to display the tick labels as percentages. We can specify the denominator (`xmax`) to use when calculating the percentages. This gets passed to the `set_major_formatter()` method of the `xaxis` or `yaxis` on the `Axes`."
   ]
  },
  {
   "cell_type": "code",
   "execution_count": null,
   "metadata": {},
   "outputs": [],
   "source": [
    "from matplotlib.ticker import PercentFormatter\n",
    "\n",
    "ax = pct_new_cases.plot(\n",
    "    figsize=(12, 7), style=['-'] * 3 + ['--', ':', '-.'],\n",
    "    title='Percentage of the World\\'s New COVID-19 Cases\\n(source: ECDC)'\n",
    ")\n",
    "\n",
    "tick_locs = covid.index[covid.index.day == 18].unique()\n",
    "tick_labels = [loc.strftime('%b %d\\n%Y') for loc in tick_locs]\n",
    "plt.xticks(tick_locs, tick_labels)\n",
    "\n",
    "ax.legend(title='', framealpha=0.5, ncol=2)\n",
    "ax.set_xlabel('')\n",
    "ax.set_ylabel('percentage of the world\\'s COVID-19 cases')\n",
    "ax.set_ylim(0, None)\n",
    "ax.yaxis.set_major_formatter(PercentFormatter(xmax=1))\n",
    "\n",
    "for spine in ['top', 'right']:\n",
    "    ax.spines[spine].set_visible(False)"
   ]
  },
  {
   "cell_type": "markdown",
   "metadata": {},
   "source": [
    "##### `EngFormatter`\n",
    "We can use the `EngFormatter` class to apply engineering notation to the ticks."
   ]
  },
  {
   "cell_type": "code",
   "execution_count": null,
   "metadata": {},
   "outputs": [],
   "source": [
    "from matplotlib.ticker import EngFormatter\n",
    "\n",
    "ax = covid.query('continentExp != \"Other\"').groupby([\n",
    "    'continentExp', pd.Grouper(freq='1D')\n",
    "]).cases.sum().unstack(0).apply('cumsum').plot(\n",
    "    style=['-', '-', '--', ':', '-.'],\n",
    "    title='Cumulative COVID-19 Cases per Continent\\n(source: ECDC)'\n",
    ")\n",
    "\n",
    "ax.legend(title='', loc='center left')\n",
    "ax.set(xlabel='', ylabel='total COVID-19 cases')\n",
    "ax.yaxis.set_major_formatter(EngFormatter())\n",
    "\n",
    "for spine in ['top', 'right']:\n",
    "    ax.spines[spine].set_visible(False)"
   ]
  },
  {
   "cell_type": "markdown",
   "metadata": {},
   "source": [
    "##### `MultipleLocator`\n",
    "If we plot the daily new COVID-19 cases in New Zealand from April 18, 2020 through September 18, 2020, by default, `matplotlib` shows the *y*-axis in increments of 2.5, but we know that it isn't possible to have fractional cases:"
   ]
  },
  {
   "cell_type": "code",
   "execution_count": null,
   "metadata": {},
   "outputs": [],
   "source": [
    "ax = new_cases.New_Zealand['2020-04-18':'2020-09-18'].plot(\n",
    "    title='Daily new COVID-19 cases in New Zealand\\n(source: ECDC)'\n",
    ")\n",
    "ax.set(xlabel='', ylabel='new COVID-19 cases')\n",
    "\n",
    "for spine in ['top', 'right']:\n",
    "    ax.spines[spine].set_visible(False)"
   ]
  },
  {
   "cell_type": "markdown",
   "metadata": {},
   "source": [
    "To make sure we only show integer values, we can use the `MultipleLocator` class. This will give ticks for all multiples of a number specified with the `base` parameter:"
   ]
  },
  {
   "cell_type": "code",
   "execution_count": null,
   "metadata": {},
   "outputs": [],
   "source": [
    "from matplotlib.ticker import MultipleLocator\n",
    "\n",
    "ax = new_cases.New_Zealand['2020-04-18':'2020-09-18'].plot(\n",
    "    title='Daily new COVID-19 cases in New Zealand\\n(source: ECDC)'\n",
    ")\n",
    "ax.set(xlabel='', ylabel='new COVID-19 cases')\n",
    "ax.yaxis.set_major_locator(MultipleLocator(base=3))\n",
    "\n",
    "for spine in ['top', 'right']:\n",
    "    ax.spines[spine].set_visible(False)"
   ]
  },
  {
   "cell_type": "markdown",
   "metadata": {},
   "source": [
    "<hr>\n",
    "<div>\n",
    "    <a href=\"./1-introduction_to_seaborn.ipynb\">\n",
    "        <button>&#8592; Previous Notebook</button>\n",
    "    </a>\n",
    "    <a href=\"./3-customizing_visualizations.ipynb\">\n",
    "        <button style=\"float: right;\">Next Notebook &#8594;</button>\n",
    "    </a>\n",
    "</div>\n",
    "<hr>"
   ]
  }
 ],
 "metadata": {
  "kernelspec": {
   "display_name": "Python 3",
   "language": "python",
   "name": "python3"
  },
  "language_info": {
   "codemirror_mode": {
    "name": "ipython",
    "version": 3
   },
   "file_extension": ".py",
   "mimetype": "text/x-python",
   "name": "python",
   "nbconvert_exporter": "python",
   "pygments_lexer": "ipython3",
   "version": "3.8.6"
  }
 },
 "nbformat": 4,
 "nbformat_minor": 4
}
