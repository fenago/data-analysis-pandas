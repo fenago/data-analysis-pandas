{
 "cells": [
  {
   "cell_type": "markdown",
   "metadata": {},
   "source": [
    "# Customizing visualizations\n",
    "\n",
    "## About the Data\n",
    "In this notebook, we will be working with 2 datasets:\n",
    "- Facebook's stock price throughout 2018 (obtained using the [`stock_analysis` package](https://github.com/fenago/stock-analysis))\n",
    "- Earthquake data from September 18, 2018 - October 13, 2018 (obtained from the US Geological Survey (USGS) using the [USGS API](https://earthquake.usgs.gov/fdsnws/event/1/))\n",
    "\n",
    "## Setup"
   ]
  },
  {
   "cell_type": "code",
   "execution_count": null,
   "metadata": {},
   "outputs": [],
   "source": [
    "%matplotlib inline\n",
    "import matplotlib.pyplot as plt\n",
    "import pandas as pd\n",
    "\n",
    "fb = pd.read_csv(\n",
    "    'data/fb_stock_prices_2018.csv', index_col='date', parse_dates=True\n",
    ")\n",
    "\n",
    "quakes = pd.read_csv('data/earthquakes.csv')"
   ]
  },
  {
   "cell_type": "markdown",
   "metadata": {},
   "source": [
    "## Adding reference lines\n",
    "### Horizontal reference lines\n",
    "`axhline()` adds horizontal lines. We simply specify the y value to draw the horizontal line at with the `y` parameter. Optionally, we can provide:\n",
    "- `label` for a string that will show up in the legend\n",
    "- `color` for the color of the reference line\n",
    "- `linestyle` for the type of line to draw\n",
    "\n",
    "We will draw reference lines for support and resistance using the [`stock_analysis` package](https://github.com/fenago/stock-analysis) that we will build in lab 7. To get these metrics, we need to create a `StockAnalyzer` object:"
   ]
  },
  {
   "cell_type": "code",
   "execution_count": null,
   "metadata": {},
   "outputs": [],
   "source": [
    "from stock_analysis import StockAnalyzer\n",
    "\n",
    "fb_analyzer = StockAnalyzer(fb)"
   ]
  },
  {
   "cell_type": "markdown",
   "metadata": {},
   "source": [
    "With the `fb_analyzer` we can use the `support()` and `resistance()` methods to get the values we seek:"
   ]
  },
  {
   "cell_type": "code",
   "execution_count": null,
   "metadata": {},
   "outputs": [],
   "source": [
    "support, resistance = (\n",
    "    getattr(fb_analyzer, stat)(level=3) for stat in ['support', 'resistance']\n",
    ")\n",
    "support, resistance"
   ]
  },
  {
   "cell_type": "markdown",
   "metadata": {},
   "source": [
    "Now that we have the values, we can add our reference lines with `plt.axhline()`:"
   ]
  },
  {
   "cell_type": "code",
   "execution_count": null,
   "metadata": {},
   "outputs": [],
   "source": [
    "fb.close['2018-12'].plot(title='FB Closing Price December 2018')\n",
    "plt.axhline(\n",
    "    y=resistance, color='r', linestyle='--',\n",
    "    label=f'resistance (${resistance:,.2f})'\n",
    ")\n",
    "plt.axhline(\n",
    "    y=support, color='g', linestyle='--',\n",
    "    label=f'support (${support:,.2f})'\n",
    ")\n",
    "plt.ylabel('price ($)')\n",
    "plt.legend()"
   ]
  },
  {
   "cell_type": "markdown",
   "metadata": {},
   "source": [
    "### Vertical reference lines\n",
    "For vertical lines, we use `axvline()` and provide the `x` parameter for where to draw it. The `std_from_mean_kde()` function draws vertical reference lines using `axvline()` at each standard deviation from the mean (1-3) and the mean."
   ]
  },
  {
   "cell_type": "code",
   "execution_count": null,
   "metadata": {},
   "outputs": [],
   "source": [
    "from viz import std_from_mean_kde\n",
    "std_from_mean_kde??"
   ]
  },
  {
   "cell_type": "markdown",
   "metadata": {},
   "source": [
    "Note, we need to import it from the `viz.py` module, before we can use it."
   ]
  },
  {
   "cell_type": "code",
   "execution_count": null,
   "metadata": {},
   "outputs": [],
   "source": [
    "from viz import std_from_mean_kde\n",
    "\n",
    "ax = std_from_mean_kde(\n",
    "    quakes.query(\n",
    "        'magType == \"mb\" and parsed_place == \"Indonesia\"'\n",
    "    ).mag\n",
    ")\n",
    "ax.set_title('mb magnitude distribution in Indonesia')\n",
    "ax.set_xlabel('mb earthquake magnitude')"
   ]
  },
  {
   "cell_type": "markdown",
   "metadata": {},
   "source": [
    "## Shading regions\n",
    "We can use `axhspan()` and `axvspan()` to shade horizontal and vertical regions, respectively."
   ]
  },
  {
   "cell_type": "code",
   "execution_count": null,
   "metadata": {},
   "outputs": [],
   "source": [
    "ax = fb.close.plot(title='FB Closing Price')\n",
    "ax.axhspan(support, resistance, alpha=0.2)\n",
    "plt.ylabel('Price ($)')"
   ]
  },
  {
   "cell_type": "markdown",
   "metadata": {},
   "source": [
    "Rather than filling in a rectangular region, we can fill between two curves using `plt.fill_between()`:"
   ]
  },
  {
   "cell_type": "code",
   "execution_count": null,
   "metadata": {},
   "outputs": [],
   "source": [
    "fb_q4 = fb.loc['2018-Q4']\n",
    "plt.fill_between(fb_q4.index, fb_q4.high, fb_q4.low)\n",
    "plt.xticks(['2018-10-01', '2018-11-01', '2018-12-01', '2019-01-01'])\n",
    "plt.xlabel('date')\n",
    "plt.ylabel('price ($)')\n",
    "plt.title('FB differential between high and low price Q4 2018')"
   ]
  },
  {
   "cell_type": "markdown",
   "metadata": {},
   "source": [
    "We can specify a specific range to fill with the `where` argument:"
   ]
  },
  {
   "cell_type": "code",
   "execution_count": null,
   "metadata": {},
   "outputs": [],
   "source": [
    "fb_q4 = fb.loc['2018-Q4']\n",
    "plt.fill_between(\n",
    "    fb_q4.index, fb_q4.high, fb_q4.low, \n",
    "    where=fb_q4.index.month == 12, \n",
    "    color='khaki', label='December differential'\n",
    ")\n",
    "plt.plot(fb_q4.index, fb_q4.high, '--', label='daily high')\n",
    "plt.plot(fb_q4.index, fb_q4.low, '--', label='daily low')\n",
    "plt.xticks(['2018-10-01', '2018-11-01', '2018-12-01', '2019-01-01'])\n",
    "plt.xlabel('date')\n",
    "plt.ylabel('price ($)')\n",
    "plt.legend()\n",
    "plt.title('FB differential between high and low price Q4 2018')"
   ]
  },
  {
   "cell_type": "markdown",
   "metadata": {},
   "source": [
    "## Annotations\n",
    "The `plt.annotate()` function can be used to add annotation to plots. Some important arguments:\n",
    "- `xy`: a tuple of the coordinates to annotate\n",
    "- `xytext`: a tuple of coordinates of where to place the annotation text\n",
    "- `arrowprops`: a dictionary of how to draw the arrow from the text of the annotation to the point being annotated\n",
    "- `ha`/`va`: specify the horizontal/vertical alignment"
   ]
  },
  {
   "cell_type": "code",
   "execution_count": null,
   "metadata": {},
   "outputs": [],
   "source": [
    "ax = fb.close.plot(title='FB Closing Price 2018', figsize=(15, 3))\n",
    "ax.set_ylabel('price ($)')\n",
    "\n",
    "ax.axhspan(support, resistance, alpha=0.2)\n",
    "\n",
    "plt.annotate(\n",
    "    f'support\\n(${support:,.2f})',\n",
    "    xy=('2018-12-31', support),\n",
    "    xytext=('2019-01-21', support),\n",
    "    arrowprops={'arrowstyle': '->'}\n",
    ")\n",
    "plt.annotate(\n",
    "    f'resistance\\n(${resistance:,.2f})',\n",
    "    xy=('2018-12-23', resistance)\n",
    ")\n",
    "\n",
    "for spine in ['top', 'right']:\n",
    "    ax.spines[spine].set_visible(False)"
   ]
  },
  {
   "cell_type": "markdown",
   "metadata": {},
   "source": [
    "We have many options for the arrow:"
   ]
  },
  {
   "cell_type": "code",
   "execution_count": null,
   "metadata": {},
   "outputs": [],
   "source": [
    "close_price = fb.loc['2018-07-25', 'close']\n",
    "open_price = fb.loc['2018-07-26', 'open']\n",
    "pct_drop = (open_price - close_price) / close_price\n",
    "fb.close.plot(title='FB Closing Price 2018', alpha=0.5)\n",
    "plt.annotate(\n",
    "    f'{pct_drop:.2%}', va='center',\n",
    "    xy=('2018-07-27', (open_price + close_price) / 2),\n",
    "    xytext=('2018-08-20', (open_price + close_price) / 2),\n",
    "    arrowprops=dict(arrowstyle='-[,widthB=4.0,lengthB=0.2')\n",
    ")\n",
    "plt.ylabel('price ($)')"
   ]
  },
  {
   "cell_type": "markdown",
   "metadata": {},
   "source": [
    "We can also pass additional parameters down to the [`matplotlib.text.Text` class](https://matplotlib.org/api/text_api.html#matplotlib.text.Text), such as `color`, `fontfamily`, `fontsize`, and `fontweight`:"
   ]
  },
  {
   "cell_type": "code",
   "execution_count": null,
   "metadata": {},
   "outputs": [],
   "source": [
    "close_price = fb.loc['2018-07-25', 'close']\n",
    "open_price = fb.loc['2018-07-26', 'open']\n",
    "pct_drop = (open_price - close_price) / close_price\n",
    "\n",
    "fb.close.plot(title='FB Closing Price 2018', alpha=0.5)\n",
    "\n",
    "plt.annotate(\n",
    "    f'{pct_drop:.2%}', va='center',\n",
    "    xy=('2018-07-27', (open_price + close_price) / 2),\n",
    "    xytext=('2018-08-20', (open_price + close_price) / 2),\n",
    "    arrowprops=dict(arrowstyle='-[,widthB=3.0,lengthB=0.2'),\n",
    "    color='red',\n",
    "    fontsize=14,\n",
    "    fontweight='medium'\n",
    ")\n",
    "plt.ylabel('price ($)')"
   ]
  },
  {
   "cell_type": "markdown",
   "metadata": {},
   "source": [
    "## Colors\n",
    "We can pass colors to the `color` argument of the `plot()` method. This can be a color name, a hex code, or RGB values."
   ]
  },
  {
   "cell_type": "code",
   "execution_count": null,
   "metadata": {},
   "outputs": [],
   "source": [
    "fb.plot(\n",
    "    y='open',\n",
    "    figsize=(5, 3),\n",
    "    color='#8000FF',\n",
    "    legend=False,\n",
    "    title='Evolution of FB Opening Price in 2018'\n",
    ")\n",
    "plt.ylabel('price ($)')"
   ]
  },
  {
   "cell_type": "markdown",
   "metadata": {},
   "source": [
    "RGB values must be given as decimals:"
   ]
  },
  {
   "cell_type": "code",
   "execution_count": null,
   "metadata": {},
   "outputs": [],
   "source": [
    "fb.plot(\n",
    "    y='open',\n",
    "    figsize=(5, 3),\n",
    "    color=(128 / 255, 0, 1),\n",
    "    legend=False,\n",
    "    title='Evolution of FB Opening Price in 2018'\n",
    ")\n",
    "plt.ylabel('price ($)')"
   ]
  },
  {
   "cell_type": "markdown",
   "metadata": {},
   "source": [
    "### Colormaps\n",
    "| Class | Purpose |\n",
    "| --- | --- |\n",
    "| Qualitative | No ordering or relationship between colors; just used to distinguish between groups |\n",
    "| Sequential | For information with ordering, such as temperature |\n",
    "| Diverging | There is a middle value between two extremes that has meaning; for example, correlation coefficients are bounded in the range `[-1, 1]`, and `0` has meaning (no correlation) |\n",
    "\n",
    "#### Finding available colormaps"
   ]
  },
  {
   "cell_type": "code",
   "execution_count": null,
   "metadata": {},
   "outputs": [],
   "source": [
    "from matplotlib import cm\n",
    "cm.datad.keys()"
   ]
  },
  {
   "cell_type": "markdown",
   "metadata": {},
   "source": [
    "We can pass a colormap to the `colormap` argument:"
   ]
  },
  {
   "cell_type": "code",
   "execution_count": null,
   "metadata": {},
   "outputs": [],
   "source": [
    "ax = fb.assign(\n",
    "    rolling_min=lambda x: x.low.rolling(20).min(),\n",
    "    rolling_max=lambda x: x.high.rolling(20).max()\n",
    ").plot(\n",
    "    y=['rolling_max', 'rolling_min'], \n",
    "    colormap='coolwarm_r', \n",
    "    label=['20D rolling max', '20D rolling min'],\n",
    "    style=[':', '--'],\n",
    "    figsize=(12, 3),\n",
    "    title='FB closing price in 2018 oscillating between '\n",
    "          '20-day rolling minimum and maximum price'\n",
    ")\n",
    "ax.plot(fb.close, 'purple', alpha=0.25, label='closing price')\n",
    "plt.legend()\n",
    "plt.ylabel('price ($)')"
   ]
  },
  {
   "cell_type": "markdown",
   "metadata": {},
   "source": [
    "We can also grab colors out of a colormap, which is a callable. This gives us an RGBA color, which we already know can be used as the `color` for the plot:"
   ]
  },
  {
   "cell_type": "code",
   "execution_count": null,
   "metadata": {},
   "outputs": [],
   "source": [
    "cm.get_cmap('ocean')(.5)"
   ]
  },
  {
   "cell_type": "markdown",
   "metadata": {},
   "source": [
    "#### Making colormaps\n",
    "In order to make colormaps, we need some utility functions which can be found in the `color_utils.py` module. We will need to be able to convert hex colors to RGBA decimals, blend colors to build a colormap, and draw the colormap."
   ]
  },
  {
   "cell_type": "code",
   "execution_count": null,
   "metadata": {},
   "outputs": [],
   "source": [
    "import color_utils"
   ]
  },
  {
   "cell_type": "markdown",
   "metadata": {},
   "source": [
    "##### Blended colormaps\n",
    "Use `blended_cmap()` to blend any number of colors:"
   ]
  },
  {
   "cell_type": "code",
   "execution_count": null,
   "metadata": {},
   "outputs": [],
   "source": [
    "my_colors = ['#800080', '#FFA500', '#FFFF00']\n",
    "rgbs = color_utils.hex_to_rgb_color_list(my_colors)\n",
    "my_cmap = color_utils.blended_cmap(rgbs)\n",
    "color_utils.draw_cmap(my_cmap, orientation='horizontal')"
   ]
  },
  {
   "cell_type": "markdown",
   "metadata": {},
   "source": [
    "*Note: The `draw_cmap()` function also makes it easy to add a colorbar with our own colormap to the plot of our choice.*\n",
    "\n",
    "#### Seaborn Color Palettes\n",
    "Seaborn also provides additional color palettes, along with utility functions for picking colormaps and making custom ones interactively in Jupyter. See [this tutorial](https://seaborn.pydata.org/tutorial/color_palettes.html) for more information.\n",
    "\n",
    "##### Showing a color palette"
   ]
  },
  {
   "cell_type": "code",
   "execution_count": null,
   "metadata": {},
   "outputs": [],
   "source": [
    "import seaborn as sns\n",
    "\n",
    "sns.palplot(sns.color_palette(\"BuGn_r\"))"
   ]
  },
  {
   "cell_type": "markdown",
   "metadata": {},
   "source": [
    "##### Building a color palette interactively for use with matplotlib"
   ]
  },
  {
   "cell_type": "code",
   "execution_count": null,
   "metadata": {},
   "outputs": [],
   "source": [
    "diverging_cmap = sns.choose_diverging_palette()"
   ]
  },
  {
   "cell_type": "code",
   "execution_count": null,
   "metadata": {},
   "outputs": [],
   "source": [
    "from matplotlib.colors import ListedColormap\n",
    "color_utils.draw_cmap(ListedColormap(diverging_cmap), orientation='horizontal')"
   ]
  },
  {
   "cell_type": "markdown",
   "metadata": {},
   "source": [
    "#### Cycling through colors\n",
    "We can use itertools to cycle through colors:"
   ]
  },
  {
   "cell_type": "code",
   "execution_count": null,
   "metadata": {},
   "outputs": [],
   "source": [
    "import itertools\n",
    "\n",
    "colors = itertools.cycle(['#ffffff', '#f0f0f0', '#000000'])\n",
    "colors"
   ]
  },
  {
   "cell_type": "code",
   "execution_count": null,
   "metadata": {},
   "outputs": [],
   "source": [
    "next(colors)"
   ]
  },
  {
   "cell_type": "markdown",
   "metadata": {},
   "source": [
    "Or we can work with a `ListedColormap` object:"
   ]
  },
  {
   "cell_type": "code",
   "execution_count": null,
   "metadata": {},
   "outputs": [],
   "source": [
    "from matplotlib.colors import ListedColormap\n",
    "red_black = ListedColormap(['red', 'black'], N=2000)\n",
    "[red_black(i) for i in range(3)]"
   ]
  },
  {
   "cell_type": "markdown",
   "metadata": {},
   "source": [
    "We may also consider using a generator:"
   ]
  },
  {
   "cell_type": "code",
   "execution_count": null,
   "metadata": {},
   "outputs": [],
   "source": [
    "def color_generator():\n",
    "    for year in range(1992, 200019): # integers in [1992, 200019)\n",
    "        if year % 100 == 0 and year % 400 != 0:\n",
    "            # special case (divisible by 100 but not 400)\n",
    "            color = '#f0f0f0'\n",
    "        elif year % 4 == 0:\n",
    "            # leap year (divisible by 4)\n",
    "            color = '#000000'\n",
    "        else:\n",
    "            color = '#ffffff'\n",
    "        yield color\n",
    "    \n",
    "year_colors = color_generator()\n",
    "year_colors"
   ]
  },
  {
   "cell_type": "code",
   "execution_count": null,
   "metadata": {},
   "outputs": [],
   "source": [
    "next(year_colors)"
   ]
  },
  {
   "cell_type": "markdown",
   "metadata": {},
   "source": [
    "We can also make a generator with a generator expression:"
   ]
  },
  {
   "cell_type": "code",
   "execution_count": null,
   "metadata": {},
   "outputs": [],
   "source": [
    "year_colors = (\n",
    "    '#ffffff'\n",
    "    if (not year % 100 and year % 400) or year % 4\n",
    "    else '#000000' for year in range(1992, 200019)\n",
    ")\n",
    "year_colors"
   ]
  },
  {
   "cell_type": "code",
   "execution_count": null,
   "metadata": {},
   "outputs": [],
   "source": [
    "next(year_colors)"
   ]
  },
  {
   "cell_type": "markdown",
   "metadata": {},
   "source": [
    "## Textures\n",
    "We can add textures to our plots via the `hatch` parameter in `matplotlib`. Current options are: {'/', '\\', '|', '-', '+', 'x', 'o', 'O', '.', '*'}"
   ]
  },
  {
   "cell_type": "code",
   "execution_count": null,
   "metadata": {},
   "outputs": [],
   "source": [
    "weekly_volume_traded = fb.loc['2018-Q4'].groupby(pd.Grouper(freq='W')).volume.sum()\n",
    "weekly_volume_traded.index = weekly_volume_traded.index.strftime('W %W')\n",
    "ax = weekly_volume_traded.plot(\n",
    "    kind='bar', hatch='*', color='lightgray',\n",
    "    title='Volume traded per week in Q4 2018'\n",
    ")\n",
    "ax.set(xlabel='week number', ylabel='volume traded')"
   ]
  },
  {
   "cell_type": "markdown",
   "metadata": {},
   "source": [
    "We can combine textures to create new ones and repeat them to intensify the effect:"
   ]
  },
  {
   "cell_type": "code",
   "execution_count": null,
   "metadata": {},
   "outputs": [],
   "source": [
    "import calendar\n",
    "\n",
    "fb_q4 = fb.loc['2018-Q4']\n",
    "\n",
    "for texture, month in zip(['oo', '/\\\\/\\\\', '...'], [10, 11, 12]):\n",
    "    plt.fill_between(\n",
    "        fb_q4.index, fb_q4.high, fb_q4.low, hatch=texture, \n",
    "        where=fb_q4.index.month == month, facecolor='white',\n",
    "        label=f'{calendar.month_name[month]} differential'\n",
    "    )\n",
    "\n",
    "plt.plot(fb_q4.index, fb_q4.high, '--', label='daily high')\n",
    "plt.plot(fb_q4.index, fb_q4.low, '--', label='daily low')\n",
    "plt.xticks(['2018-10-01', '2018-11-01', '2018-12-01', '2019-01-01'])\n",
    "plt.xlabel('date')\n",
    "plt.ylabel('price ($)')\n",
    "plt.title('FB differential between high and low price Q4 2018')\n",
    "plt.legend()"
   ]
  },
  {
   "cell_type": "markdown",
   "metadata": {},
   "source": [
    "<hr>\n",
    "<div style=\"overflow: hidden; margin-bottom: 10px;\">\n",
    "    <div style=\"float: left;\">\n",
    "         <a href=\"./2-formatting_plots.ipynb\">\n",
    "        <button>&#8592; Previous Notebook</button>\n",
    "    </a>\n",
    "    </div>\n",
    "    <div style=\"float: right;\">\n",
    "        <a href=\"../../solutions/lab_11/solutions.ipynb\">\n",
    "            <button>Solutions</button>\n",
    "        </a>\n",
    "        <a href=\"../lab_12/financial_analysis.ipynb\">\n",
    "            <button>Lab 12 &#8594;</button>\n",
    "        </a>\n",
    "    </div>\n",
    "</div>\n",
    "<hr>"
   ]
  }
 ],
 "metadata": {
  "kernelspec": {
   "display_name": "Python 3",
   "language": "python",
   "name": "python3"
  },
  "language_info": {
   "codemirror_mode": {
    "name": "ipython",
    "version": 3
   },
   "file_extension": ".py",
   "mimetype": "text/x-python",
   "name": "python",
   "nbconvert_exporter": "python",
   "pygments_lexer": "ipython3",
   "version": "3.8.6"
  }
 },
 "nbformat": 4,
 "nbformat_minor": 4
}
