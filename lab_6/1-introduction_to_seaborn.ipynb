{
 "cells": [
  {
   "cell_type": "markdown",
   "metadata": {},
   "source": [
    "# Introduction to Seaborn\n",
    "\n",
    "## About the Data\n",
    "In this notebook, we will be working with 2 datasets:\n",
    "- Facebook's stock price throughout 2018 (obtained using the [`stock_analysis` package](https://github.com/fenago/stock-analysis))\n",
    "- Earthquake data from September 18, 2018 - October 13, 2018 (obtained from the US Geological Survey (USGS) using the [USGS API](https://earthquake.usgs.gov/fdsnws/event/1/))\n",
    "\n",
    "## Setup"
   ]
  },
  {
   "cell_type": "code",
   "execution_count": null,
   "metadata": {},
   "outputs": [],
   "source": [
    "%matplotlib inline\n",
    "import matplotlib.pyplot as plt\n",
    "import numpy as np\n",
    "import pandas as pd\n",
    "import seaborn as sns\n",
    "\n",
    "fb = pd.read_csv(\n",
    "    'data/fb_stock_prices_2018.csv', index_col='date', parse_dates=True\n",
    ")\n",
    "quakes = pd.read_csv('data/earthquakes.csv')"
   ]
  },
  {
   "cell_type": "markdown",
   "metadata": {},
   "source": [
    "## Categorical data\n",
    "A [7.5 magnitude earthquake on September 28, 2018 near Palu, Indonesia caused a devastating tsunami afterwards](https://www.livescience.com/63721-tsunami-earthquake-indonesia.html). Let's take a look at some visualizations to understand which magnitude techniques (`magType`) are used in Indonesia, the range of magnitudes there, and how many of the earthquakes are accompanied by a tsunami."
   ]
  },
  {
   "cell_type": "code",
   "execution_count": null,
   "metadata": {},
   "outputs": [],
   "source": [
    "quakes.assign(\n",
    "    time=lambda x: pd.to_datetime(x.time, unit='ms')\n",
    ").set_index('time').loc['2018-09-28'].query(\n",
    "    'parsed_place == \"Indonesia\" and tsunami and mag == 7.5'\n",
    ")"
   ]
  },
  {
   "cell_type": "markdown",
   "metadata": {},
   "source": [
    "### `stripplot()`\n",
    "The `stripplot()` function helps us visualize categorical data on one axis and numerical data on the other. We also now have the option of coloring our points using a column of our data (with the `hue` parameter). Using a strip plot, we can see points for each earthquake that was measured with a given `magType` and what its magnitude was; however, it isn't too easy to see density of the points due to overlap:"
   ]
  },
  {
   "cell_type": "code",
   "execution_count": null,
   "metadata": {},
   "outputs": [],
   "source": [
    "sns.stripplot(\n",
    "    x='magType',\n",
    "    y='mag',\n",
    "    hue='tsunami',\n",
    "    data=quakes.query('parsed_place == \"Indonesia\"')\n",
    ")"
   ]
  },
  {
   "cell_type": "markdown",
   "metadata": {},
   "source": [
    "### `swarmplot()`\n",
    "The bee swarm plot helps address this issue by keeping the points from overlapping. Notice how many more points we can see for the blue section of the `mb` column:"
   ]
  },
  {
   "cell_type": "code",
   "execution_count": null,
   "metadata": {},
   "outputs": [],
   "source": [
    "sns.swarmplot(\n",
    "    x='magType',\n",
    "    y='mag',\n",
    "    hue='tsunami',\n",
    "    data=quakes.query('parsed_place == \"Indonesia\"'),\n",
    "    size=3.5 # point size\n",
    ")"
   ]
  },
  {
   "cell_type": "markdown",
   "metadata": {},
   "source": [
    "### `boxenplot()`\n",
    "The `boxenplot()` function creates an enhanced box plot that shows additional quantiles:"
   ]
  },
  {
   "cell_type": "code",
   "execution_count": null,
   "metadata": {},
   "outputs": [],
   "source": [
    "sns.boxenplot(\n",
    "    x='magType', y='mag', data=quakes[['magType', 'mag']]\n",
    ")\n",
    "plt.title('Comparing earthquake magnitude by magType')"
   ]
  },
  {
   "cell_type": "markdown",
   "metadata": {},
   "source": [
    "*Read more about this plot type in this paper: [Letter-value plots: Boxplots for large data](https://vita.had.co.nz/papers/letter-value-plot.html)*\n",
    "\n",
    "### `violinplot()`\n",
    "Violin plots combine box plots and KDEs:"
   ]
  },
  {
   "cell_type": "code",
   "execution_count": null,
   "metadata": {},
   "outputs": [],
   "source": [
    "fig, axes = plt.subplots(figsize=(10, 5))\n",
    "sns.violinplot(\n",
    "    x='magType', y='mag', data=quakes[['magType', 'mag']],  \n",
    "    ax=axes, scale='width' # all violins have same width\n",
    ")\n",
    "plt.title('Comparing earthquake magnitude by magType')"
   ]
  },
  {
   "cell_type": "markdown",
   "metadata": {},
   "source": [
    "## Correlations and Heatmaps\n",
    "\n",
    "### `heatmap()`\n",
    "Last lab, we saw how to create a correlation matrix heatmap using `pandas` and `matplotlib` (in the [`2-plotting_with_pandas.ipynb`](../lab_10/2-plotting_with_pandas.ipynb) notebook). An easier way is to use `seaborn`:"
   ]
  },
  {
   "cell_type": "code",
   "execution_count": null,
   "metadata": {},
   "outputs": [],
   "source": [
    "sns.heatmap(\n",
    "    fb.sort_index().assign(\n",
    "        log_volume=np.log(fb.volume),\n",
    "        max_abs_change=fb.high - fb.low\n",
    "    ).corr(),\n",
    "    annot=True, center=0, vmin=-1, vmax=1\n",
    ")"
   ]
  },
  {
   "cell_type": "markdown",
   "metadata": {},
   "source": [
    "### `pairplot()`\n",
    "The pair plot is seaborn's answer to the scatter matrix we saw in lab 10 (`pandas.plotting.scatter_matrix()`) in the [`3-pandas_plotting_module.ipynb`](../lab_10/3-pandas_plotting_module.ipynb) notebook:"
   ]
  },
  {
   "cell_type": "code",
   "execution_count": null,
   "metadata": {},
   "outputs": [],
   "source": [
    "sns.pairplot(fb)"
   ]
  },
  {
   "cell_type": "markdown",
   "metadata": {},
   "source": [
    "Just as with `pandas` we can specify what to show along the diagonal; however, `seaborn` also allows us to color the data based on another column (or other data with the same shape):"
   ]
  },
  {
   "cell_type": "code",
   "execution_count": null,
   "metadata": {},
   "outputs": [],
   "source": [
    "sns.pairplot(\n",
    "    fb.assign(quarter=lambda x: x.index.quarter),\n",
    "    diag_kind='kde',\n",
    "    hue='quarter'\n",
    ")"
   ]
  },
  {
   "cell_type": "markdown",
   "metadata": {},
   "source": [
    "### `jointplot()`\n",
    "The joint plot allows us to visualize the relationship between two variables, like a scatter plot. However, we get the added benefit of being able to visualize their distributions at the same time (as a histogram or KDE). The default options give us a scatter plot in the center and histograms on the sides:"
   ]
  },
  {
   "cell_type": "code",
   "execution_count": null,
   "metadata": {},
   "outputs": [],
   "source": [
    "sns.jointplot(\n",
    "    x='log_volume',\n",
    "    y='max_abs_change',\n",
    "    data=fb.assign(\n",
    "        log_volume=np.log(fb.volume),\n",
    "        max_abs_change=fb.high - fb.low\n",
    "    )\n",
    ")"
   ]
  },
  {
   "cell_type": "markdown",
   "metadata": {},
   "source": [
    "We can pass `kind='hex'` for hexbins:"
   ]
  },
  {
   "cell_type": "code",
   "execution_count": null,
   "metadata": {},
   "outputs": [],
   "source": [
    "sns.jointplot(\n",
    "    x='log_volume',\n",
    "    y='max_abs_change',\n",
    "    kind='hex',\n",
    "    data=fb.assign(\n",
    "        log_volume=np.log(fb.volume),\n",
    "        max_abs_change=fb.high - fb.low\n",
    "    )\n",
    ")"
   ]
  },
  {
   "cell_type": "markdown",
   "metadata": {},
   "source": [
    "If we pass `kind='kde'`, we get a contour plot of the joint density estimate with KDEs along the sides:"
   ]
  },
  {
   "cell_type": "code",
   "execution_count": null,
   "metadata": {},
   "outputs": [],
   "source": [
    "sns.jointplot(\n",
    "    x='log_volume',\n",
    "    y='max_abs_change',\n",
    "    kind='kde',\n",
    "    data=fb.assign(\n",
    "        log_volume=np.log(fb.volume),\n",
    "        max_abs_change=fb.high - fb.low\n",
    "    )\n",
    ")"
   ]
  },
  {
   "cell_type": "markdown",
   "metadata": {},
   "source": [
    "If we specify `kind='reg'` instead, we get a regression line in the center and KDEs on the sides:"
   ]
  },
  {
   "cell_type": "code",
   "execution_count": null,
   "metadata": {},
   "outputs": [],
   "source": [
    "sns.jointplot(\n",
    "    x='log_volume',\n",
    "    y='max_abs_change',\n",
    "    kind='reg',\n",
    "    data=fb.assign(\n",
    "        log_volume=np.log(fb.volume),\n",
    "        max_abs_change=fb.high - fb.low\n",
    "    )\n",
    ")"
   ]
  },
  {
   "cell_type": "markdown",
   "metadata": {},
   "source": [
    "If we pass `kind='resid'`, we get the residuals from the aforementioned regression:"
   ]
  },
  {
   "cell_type": "code",
   "execution_count": null,
   "metadata": {},
   "outputs": [],
   "source": [
    "sns.jointplot(\n",
    "    x='log_volume',\n",
    "    y='max_abs_change',\n",
    "    kind='resid',\n",
    "    data=fb.assign(\n",
    "        log_volume=np.log(fb.volume),\n",
    "        max_abs_change=fb.high - fb.low\n",
    "    )\n",
    ")\n",
    "# update y-axis label (discussed in the next notebook)\n",
    "plt.ylabel('residuals')"
   ]
  },
  {
   "cell_type": "markdown",
   "metadata": {},
   "source": [
    "## Regression plots\n",
    "We are going to use `seaborn` to visualize a linear regression between the log of the volume traded in Facebook stock and the maximum absolute daily change (daily high stock price - daily low stock price). To do so, we first need to isolate this data:"
   ]
  },
  {
   "cell_type": "code",
   "execution_count": null,
   "metadata": {},
   "outputs": [],
   "source": [
    "fb_reg_data = fb.assign(\n",
    "    log_volume=np.log(fb.volume),\n",
    "    max_abs_change=fb.high - fb.low\n",
    ").iloc[:,-2:]"
   ]
  },
  {
   "cell_type": "markdown",
   "metadata": {},
   "source": [
    "Since we want to visualize each column as the regressor, we need to look at permutations of their order. Permutations and combinations (among other things) are made easy in Python with `itertools`, so let's import it:"
   ]
  },
  {
   "cell_type": "code",
   "execution_count": null,
   "metadata": {},
   "outputs": [],
   "source": [
    "import itertools"
   ]
  },
  {
   "cell_type": "markdown",
   "metadata": {},
   "source": [
    "`itertools` gives us efficient iterators. Iterators are objects that we loop over, exhausting them. This is an iterator from `itertools`; notice how the second loop doesn't do anything:"
   ]
  },
  {
   "cell_type": "code",
   "execution_count": null,
   "metadata": {},
   "outputs": [],
   "source": [
    "iterator = itertools.repeat(\"I'm an iterator\", 1)\n",
    "\n",
    "for i in iterator:\n",
    "    print(f'-->{i}')\n",
    "print('This printed once because the iterator has been exhausted')\n",
    "for i in iterator:\n",
    "    print(f'-->{i}')"
   ]
  },
  {
   "cell_type": "markdown",
   "metadata": {},
   "source": [
    "Iterables are objects that can be iterated over. When entering a loop, an iterator is made from the iterable to handle the iteration. Iterators are iterables, but not all iterables are iterators. A list is an iterable. If we turn that iterator into an iterable (a list in this case), the second loop runs:"
   ]
  },
  {
   "cell_type": "code",
   "execution_count": null,
   "metadata": {},
   "outputs": [],
   "source": [
    "iterable = list(itertools.repeat(\"I'm an iterable\", 1))\n",
    "\n",
    "for i in iterable:\n",
    "    print(f'-->{i}')\n",
    "print('This prints again because it\\'s an iterable:')\n",
    "for i in iterable:\n",
    "    print(f'-->{i}')"
   ]
  },
  {
   "cell_type": "markdown",
   "metadata": {},
   "source": [
    "The `reg_resid_plots()` function from the `viz.py` module in this folder uses `regplot()` and `residplot()` from seaborn along with `itertools` to plot the regression and residuals side-by-side:"
   ]
  },
  {
   "cell_type": "code",
   "execution_count": null,
   "metadata": {},
   "outputs": [],
   "source": [
    "from viz import reg_resid_plots\n",
    "reg_resid_plots??"
   ]
  },
  {
   "cell_type": "markdown",
   "metadata": {},
   "source": [
    "Let's see what the output looks like for the Facebook data we isolated:"
   ]
  },
  {
   "cell_type": "code",
   "execution_count": null,
   "metadata": {},
   "outputs": [],
   "source": [
    "from viz import reg_resid_plots\n",
    "reg_resid_plots(fb_reg_data)"
   ]
  },
  {
   "cell_type": "markdown",
   "metadata": {},
   "source": [
    "We can use `lmplot()` to split our regression across subsets of our data. For example, we can perform a regression per quarter on the Facebook stock data:"
   ]
  },
  {
   "cell_type": "code",
   "execution_count": null,
   "metadata": {},
   "outputs": [],
   "source": [
    "sns.lmplot(\n",
    "    x='log_volume',\n",
    "    y='max_abs_change',\n",
    "    data=fb.assign(\n",
    "        log_volume=np.log(fb.volume),\n",
    "        max_abs_change=fb.high - fb.low,\n",
    "        quarter=lambda x: x.index.quarter\n",
    "    ),\n",
    "    col='quarter'\n",
    ")"
   ]
  },
  {
   "cell_type": "markdown",
   "metadata": {},
   "source": [
    "## Faceting\n",
    "We can create subplots across subsets of our data by faceting. First, we create a `FacetGrid` specifying how to lay out the plots (which categorical column goes along the rows and which one along the columns). Then, we call the `map()` method of the `FacetGrid` and pass in the plotting function we want to use (along with any additional arguments).\n",
    "\n",
    "Let's use a facet grid to show the distribution of earthquake magnitudes in Indonesia and Papua New Guinea by `tsunami` and `parsed_place`:"
   ]
  },
  {
   "cell_type": "code",
   "execution_count": null,
   "metadata": {},
   "outputs": [],
   "source": [
    "g = sns.FacetGrid(\n",
    "    quakes.query(\n",
    "        'parsed_place.isin([\"Indonesia\", \"Papua New Guinea\"]) '\n",
    "        'and magType == \"mb\"'\n",
    "    ),\n",
    "    row='tsunami',\n",
    "    col='parsed_place',\n",
    "    height=4\n",
    ")\n",
    "g = g.map(sns.histplot, 'mag', kde=True)"
   ]
  },
  {
   "cell_type": "markdown",
   "metadata": {},
   "source": [
    "<hr>\n",
    "<div>\n",
    "    <a href=\"../lab_10/3-pandas_plotting_module.ipynb\">\n",
    "        <button>&#8592; Lab 10</button>\n",
    "    </a>\n",
    "    <a href=\"./2-formatting_plots.ipynb\">\n",
    "        <button style=\"float: right;\">Next Notebook &#8594;</button>\n",
    "    </a>\n",
    "</div>\n",
    "<hr>"
   ]
  }
 ],
 "metadata": {
  "kernelspec": {
   "display_name": "Python 3",
   "language": "python",
   "name": "python3"
  },
  "language_info": {
   "codemirror_mode": {
    "name": "ipython",
    "version": 3
   },
   "file_extension": ".py",
   "mimetype": "text/x-python",
   "name": "python",
   "nbconvert_exporter": "python",
   "pygments_lexer": "ipython3",
   "version": "3.8.6"
  }
 },
 "nbformat": 4,
 "nbformat_minor": 4
}
