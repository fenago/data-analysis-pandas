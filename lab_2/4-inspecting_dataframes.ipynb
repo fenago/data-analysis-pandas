{
 "cells": [
  {
   "cell_type": "markdown",
   "metadata": {},
   "source": [
    "# Inspecting a DataFrame Object\n",
    "\n",
    "## About the Data\n",
    "In this notebook, we will be working with earthquake data from September 18, 2018 - October 13, 2018 (obtained from the US Geological Survey (USGS) using the [USGS API](https://earthquake.usgs.gov/fdsnws/event/1/))\n",
    "\n",
    "## Setup\n",
    "We will be working with the `data/earthquakes.csv` file again, so we need to handle our imports and read it in."
   ]
  },
  {
   "cell_type": "code",
   "execution_count": null,
   "metadata": {},
   "outputs": [],
   "source": [
    "import numpy as np\n",
    "import pandas as pd\n",
    "\n",
    "df = pd.read_csv('data/earthquakes.csv')"
   ]
  },
  {
   "cell_type": "markdown",
   "metadata": {},
   "source": [
    "## Examining dataframes\n",
    "### Is it empty?"
   ]
  },
  {
   "cell_type": "code",
   "execution_count": null,
   "metadata": {},
   "outputs": [],
   "source": [
    "df.empty"
   ]
  },
  {
   "cell_type": "markdown",
   "metadata": {},
   "source": [
    "### What are the dimensions?"
   ]
  },
  {
   "cell_type": "code",
   "execution_count": null,
   "metadata": {},
   "outputs": [],
   "source": [
    "df.shape"
   ]
  },
  {
   "cell_type": "markdown",
   "metadata": {},
   "source": [
    "### What columns do we have?\n",
    "We know there are 26 columns, but what are they? Let's use the `columns` attribute to see:"
   ]
  },
  {
   "cell_type": "code",
   "execution_count": null,
   "metadata": {},
   "outputs": [],
   "source": [
    "df.columns"
   ]
  },
  {
   "cell_type": "markdown",
   "metadata": {},
   "source": [
    "### What does the data look like?\n",
    "View rows from the top with `head()`:"
   ]
  },
  {
   "cell_type": "code",
   "execution_count": null,
   "metadata": {},
   "outputs": [],
   "source": [
    "df.head()"
   ]
  },
  {
   "cell_type": "markdown",
   "metadata": {},
   "source": [
    "View rows from the bottom with `tail()`. Let's view 2 rows:"
   ]
  },
  {
   "cell_type": "code",
   "execution_count": null,
   "metadata": {},
   "outputs": [],
   "source": [
    "df.tail(2)"
   ]
  },
  {
   "cell_type": "markdown",
   "metadata": {},
   "source": [
    "*Tip: we can modify the display options in order to see more columns:*\n",
    "\n",
    "```python\n",
    "# check the max columns setting\n",
    ">>> pd.get_option('display.max_columns')\n",
    "20\n",
    "\n",
    "# set the max columns to show when printing the dataframe to 26\n",
    ">>> pd.set_option('display.max_columns', 26)\n",
    "# OR\n",
    ">>> pd.options.display.max_columns = 26\n",
    "\n",
    "# reset the option\n",
    ">>> pd.reset_option('display.max_columns')\n",
    "\n",
    "# get information on all display settings\n",
    ">>> pd.describe_option('display')\n",
    "```\n",
    "\n",
    "*More information can be found in the documentation [here](https://pandas.pydata.org/pandas-docs/stable/user_guide/options.html).*\n",
    "\n",
    "### What data types do we have?"
   ]
  },
  {
   "cell_type": "code",
   "execution_count": null,
   "metadata": {},
   "outputs": [],
   "source": [
    "df.dtypes"
   ]
  },
  {
   "cell_type": "markdown",
   "metadata": {},
   "source": [
    "### Getting extra info and finding nulls"
   ]
  },
  {
   "cell_type": "code",
   "execution_count": null,
   "metadata": {},
   "outputs": [],
   "source": [
    "df.info()"
   ]
  },
  {
   "cell_type": "markdown",
   "metadata": {},
   "source": [
    "## Describing and Summarizing\n",
    "### Get summary statistics"
   ]
  },
  {
   "cell_type": "code",
   "execution_count": null,
   "metadata": {},
   "outputs": [],
   "source": [
    "df.describe()"
   ]
  },
  {
   "cell_type": "markdown",
   "metadata": {},
   "source": [
    "Specifying the 5<sup>th</sup> and 95<sup>th</sup> percentile:"
   ]
  },
  {
   "cell_type": "code",
   "execution_count": null,
   "metadata": {},
   "outputs": [],
   "source": [
    "df.describe(percentiles=[0.05, 0.95])"
   ]
  },
  {
   "cell_type": "markdown",
   "metadata": {},
   "source": [
    "Describe specific data types:"
   ]
  },
  {
   "cell_type": "code",
   "execution_count": null,
   "metadata": {},
   "outputs": [],
   "source": [
    "df.describe(include=np.object)"
   ]
  },
  {
   "cell_type": "markdown",
   "metadata": {},
   "source": [
    "Or describe all of them:"
   ]
  },
  {
   "cell_type": "code",
   "execution_count": null,
   "metadata": {},
   "outputs": [],
   "source": [
    "df.describe(include='all')"
   ]
  },
  {
   "cell_type": "markdown",
   "metadata": {},
   "source": [
    "This works on columns also:"
   ]
  },
  {
   "cell_type": "code",
   "execution_count": null,
   "metadata": {},
   "outputs": [],
   "source": [
    "df.felt.describe()"
   ]
  },
  {
   "cell_type": "markdown",
   "metadata": {},
   "source": [
    "There are methods for specific statistics as well. Here is a sampling of them:\n",
    "\n",
    "| Method | Description | Data types |\n",
    "| --- | --- | --- |\n",
    "| `count()` | The number of non-null observations | Any |\n",
    "| `nunique()` | The number of unique values | Any |\n",
    "| `sum()` | The total of the values | Numerical or Boolean |\n",
    "| `mean()` | The average of the values | Numerical or Boolean |\n",
    "| `median()` | The median of the values | Numerical |\n",
    "| `min()` | The minimum of the values | Numerical |\n",
    "| `idxmin()` | The index where the minimum values occurs | Numerical |\n",
    "| `max()` | The maximum of the values | Numerical |\n",
    "| `idxmax()` | The index where the maximum value occurs | Numerical |\n",
    "| `abs()` | The absolute values of the data | Numerical |\n",
    "| `std()` | The standard deviation | Numerical |\n",
    "| `var()` | The variance |  Numerical |\n",
    "| `cov()` | The covariance between two `Series`, or a covariance matrix for all column combinations in a `DataFrame` | Numerical |\n",
    "| `corr()` | The correlation between two `Series`, or a correlation matrix for all column combinations in a `DataFrame` | Numerical |\n",
    "| `quantile()` | Calculates a specific quantile | Numerical |\n",
    "| `cumsum()` | The cumulative sum | Numerical or Boolean |\n",
    "| `cummin()` | The cumulative minimum | Numerical |\n",
    "| `cummax()` | The cumulative maximum | Numerical |\n",
    "\n",
    "For example, finding the unique values in the `alert` column:"
   ]
  },
  {
   "cell_type": "code",
   "execution_count": null,
   "metadata": {},
   "outputs": [],
   "source": [
    "df.alert.unique()"
   ]
  },
  {
   "cell_type": "markdown",
   "metadata": {},
   "source": [
    "We can then use `value_counts()` to see how many of each unique value we have:"
   ]
  },
  {
   "cell_type": "code",
   "execution_count": null,
   "metadata": {},
   "outputs": [],
   "source": [
    "df.alert.value_counts()"
   ]
  },
  {
   "cell_type": "markdown",
   "metadata": {},
   "source": [
    "Note that `Index` objects also have several methods to help describe and summarize our data:\n",
    "\n",
    "| Method | Description |\n",
    "| --- | --- |\n",
    "| `argmax()`/`argmin()` | Find the location of the maximum/minimum value in the index |\n",
    "| `equals()` | Compare the index to another `Index` object for equality |\n",
    "| `isin()` | Check if the index values are in a list of values and return an array of Booleans |\n",
    "| `max()`/`min()` | Find the maximum/minimum value in the index |\n",
    "| `nunique()` | Get the number of unique values in the index |\n",
    "| `to_series()` | Create a `Series` object from the index |\n",
    "| `unique()` | Find the unique values of the index |\n",
    "| `value_counts()`| Create a frequency table for the unique values in the index |"
   ]
  },
  {
   "cell_type": "markdown",
   "metadata": {},
   "source": [
    "<hr>\n",
    "<div>\n",
    "    <a href=\"./3-making_dataframes_from_api_requests.ipynb\">\n",
    "        <button style=\"float: left;\">&#8592; Previous Notebook</button>\n",
    "    </a>\n",
    "    <a href=\"./5-subsetting_data.ipynb\">\n",
    "        <button style=\"float: right;\">Next Notebook &#8594;</button>\n",
    "    </a>\n",
    "</div>\n",
    "<br>\n",
    "<hr>"
   ]
  }
 ],
 "metadata": {
  "kernelspec": {
   "display_name": "Python 3",
   "language": "python",
   "name": "python3"
  },
  "language_info": {
   "codemirror_mode": {
    "name": "ipython",
    "version": 3
   },
   "file_extension": ".py",
   "mimetype": "text/x-python",
   "name": "python",
   "nbconvert_exporter": "python",
   "pygments_lexer": "ipython3",
   "version": "3.8.6"
  }
 },
 "nbformat": 4,
 "nbformat_minor": 4
}
