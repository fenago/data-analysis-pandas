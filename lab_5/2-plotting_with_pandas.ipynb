{
 "cells": [
  {
   "cell_type": "markdown",
   "metadata": {},
   "source": [
    "# Plotting with Pandas\n",
    "The `plot()` method is available on `Series` and `DataFrame` objects. Many of the parameters get passed down to `matplotlib`. The `kind` argument let's us vary the plot type. Here are some commonly used parameters:\n",
    "\n",
    "| Parameter | Purpose | Data Type |\n",
    "| --- | --- | --- |\n",
    "| `kind` | Determines the plot type | String |\n",
    "| `x`/`y` | Column(s) to plot on the *x*-axis/*y*-axis | String or list |\n",
    "| `ax` | Draws the plot on the `Axes` object provided | `Axes` |\n",
    "| `subplots` | Determines whether to make subplots | Boolean |\n",
    "| `layout` | Specifies how to arrange the subplots | Tuple of `(rows, columns)` |\n",
    "| `figsize` | Size to make the `Figure` object | Tuple of `(width, height)` | \n",
    "| `title` | The title of the plot or subplots | String for the plot title or a list of strings for subplot titles |\n",
    "| `legend` | Determines whether to show the legend | Boolean |\n",
    "| `label` | What to call an item in the legend | String if a single column is being plotted; otherwise, a list of strings |\n",
    "| `style` | `matplotlib` style strings for each item being plotted | String if a single column is being plotted; otherwise, a list of strings |\n",
    "| `color` | The color to plot the item in | String or red, green, blue tuple if a single column is being plotted; otherwise, a list |\n",
    "| `colormap` | The colormap to use | String or `matplotlib` colormap object |\n",
    "| `logx`/`logy`/`loglog` | Determines whether to use a logarithmic scale for the *x*-axis, *y*-axis, or both | Boolean |\n",
    "| `xticks`/`yticks` | Determines where to draw the ticks on the *x*-axis/*y*-axis | List of values |\n",
    "| `xlim`/`ylim` | The axis limits for the *x*-axis/*y*-axis | Tuple of the form `(min, max)` |\n",
    "| `rot` | The angle to write the tick labels at | Integer |\n",
    "| `sharex`/`sharey` | Determines whether to have subplots share the *x*-axis/*y*-axis | Boolean |\n",
    "| `fontsize` | Controls the size of the tick labels | Integer |\n",
    "| `grid` | Turns on/off the grid lines | Boolean |\n",
    "\n",
    "## About the Data\n",
    "In this notebook, we will be working with 3 datasets:\n",
    "- Facebook's stock price throughout 2018 (obtained using the [`stock_analysis` package](https://github.com/fenago/stock-analysis))\n",
    "- Earthquake data from September 18, 2018 - October 13, 2018 (obtained from the US Geological Survey (USGS) using the [USGS API](https://earthquake.usgs.gov/fdsnws/event/1/))\n",
    "- European Centre for Disease Prevention and Control's (ECDC) [daily number of new reported cases of COVID-19 by country worldwide dataset](https://www.ecdc.europa.eu/en/publications-data/download-todays-data-geographic-distribution-covid-19-cases-worldwide) collected on September 19, 2020 via [this link](https://opendata.ecdc.europa.eu/covid19/casedistribution/csv)\n",
    "\n",
    "## Setup"
   ]
  },
  {
   "cell_type": "code",
   "execution_count": null,
   "metadata": {},
   "outputs": [],
   "source": [
    "%matplotlib inline\n",
    "import matplotlib.pyplot as plt\n",
    "import numpy as np\n",
    "import pandas as pd\n",
    "\n",
    "fb = pd.read_csv(\n",
    "    'data/fb_stock_prices_2018.csv', index_col='date', parse_dates=True\n",
    ")\n",
    "quakes = pd.read_csv('data/earthquakes.csv')\n",
    "covid = pd.read_csv('data/covid19_cases.csv').assign(\n",
    "    date=lambda x: pd.to_datetime(x.dateRep, format='%d/%m/%Y')\n",
    ").set_index('date').replace(\n",
    "    'United_States_of_America', 'USA'\n",
    ").sort_index()['2020-01-18':'2020-09-18']"
   ]
  },
  {
   "cell_type": "markdown",
   "metadata": {},
   "source": [
    "## Evolution over time\n",
    "Line plots help us see how a variable changes over time. They are the default for the `kind` argument, but we can pass `kind='line'` to be explicit in our intent:"
   ]
  },
  {
   "cell_type": "code",
   "execution_count": null,
   "metadata": {},
   "outputs": [],
   "source": [
    "fb.plot(\n",
    "    kind='line',\n",
    "    y='open',\n",
    "    figsize=(10, 5),\n",
    "    style='-b',\n",
    "    legend=False,\n",
    "    title='Evolution of Facebook Open Price'\n",
    ")"
   ]
  },
  {
   "cell_type": "markdown",
   "metadata": {},
   "source": [
    "We provided the `style` argument in the previous example; however, we can use the `color` and `linestyle` arguments to get the same result:"
   ]
  },
  {
   "cell_type": "code",
   "execution_count": null,
   "metadata": {},
   "outputs": [],
   "source": [
    "fb.plot(\n",
    "    kind='line',\n",
    "    y='open',\n",
    "    figsize=(10, 5),\n",
    "    color='blue',\n",
    "    linestyle='solid',\n",
    "    legend=False,\n",
    "    title='Evolution of Facebook Open Price'\n",
    ")"
   ]
  },
  {
   "cell_type": "markdown",
   "metadata": {},
   "source": [
    "We can also plot many lines at once by simply passing a list of the columns to plot:"
   ]
  },
  {
   "cell_type": "code",
   "execution_count": null,
   "metadata": {},
   "outputs": [],
   "source": [
    "fb.first('1W').plot(\n",
    "    y=['open', 'high', 'low', 'close'],\n",
    "    style=['o-b', '--r', ':k', '.-g'],\n",
    "    title='Facebook OHLC Prices during 1st Week of Trading 2018'\n",
    ").autoscale()"
   ]
  },
  {
   "cell_type": "markdown",
   "metadata": {},
   "source": [
    "### Creating subplots\n",
    "When plotting with `pandas`, creating subplots is simply a matter of passing `subplots=True` to the `plot()` method, and (optionally) specifying the `layout` in a tuple of `(rows, columns)`:"
   ]
  },
  {
   "cell_type": "code",
   "execution_count": null,
   "metadata": {},
   "outputs": [],
   "source": [
    "fb.plot(\n",
    "    kind='line',\n",
    "    subplots=True,\n",
    "    layout=(3, 2),\n",
    "    figsize=(15, 10),\n",
    "    title='Facebook Stock 2018'\n",
    ")"
   ]
  },
  {
   "cell_type": "markdown",
   "metadata": {},
   "source": [
    "Note that we didn't provide a specific column to plot and `pandas` plotted all of them for us.\n",
    "\n",
    "Sometimes we want to make subplots that each have a few variables in them for comparison. This can be achieved using the `ax` parameter. To illustrate this, let's take a look at daily new COVID-19 cases in China, Spain, Italy, the USA, Brazil, and India:"
   ]
  },
  {
   "cell_type": "code",
   "execution_count": null,
   "metadata": {},
   "outputs": [],
   "source": [
    "new_cases_rolling_average = covid.pivot_table(\n",
    "    index=covid.index, \n",
    "    columns='countriesAndTerritories', \n",
    "    values='cases'\n",
    ").rolling(7).mean()"
   ]
  },
  {
   "cell_type": "markdown",
   "metadata": {},
   "source": [
    "Since there is a lot of fluctuation in these values, we will plot the 7-day moving average of new cases using the `rolling()` method (discussed in lab 4). Rather than create a separate plot for each country (which makes it harder to compare) or plot them all together (which will make it difficult to see the smaller values), we will plot countries that have had a similar number of cases in the same subplot:"
   ]
  },
  {
   "cell_type": "code",
   "execution_count": null,
   "metadata": {},
   "outputs": [],
   "source": [
    "fig, axes = plt.subplots(1, 3, figsize=(15, 5))\n",
    "\n",
    "new_cases_rolling_average[['China']].plot(ax=axes[0], style='-.c')\n",
    "new_cases_rolling_average[['Italy', 'Spain']].plot(\n",
    "    ax=axes[1], style=['-', '--'], \n",
    "    title='7-day rolling average of new COVID-19 cases\\n(source: ECDC)'\n",
    ")\n",
    "new_cases_rolling_average[['Brazil', 'India', 'USA']]\\\n",
    "    .plot(ax=axes[2], style=['--', ':', '-'])"
   ]
  },
  {
   "cell_type": "markdown",
   "metadata": {},
   "source": [
    "*NOTE: we specified the line styles here so that the lines can be distinguished in the text as a black and white image.*\n",
    "\n",
    "In the previous figure, we were able to compare countries with similar levels of new COVID-19 cases, but we couldn't compare all of them in the same plot due to scale. One way around this is to use an **area plot**, which makes it possible for us to visualize the overall 7-day rolling average of new COVID-19 cases and at the same time how much each country is contributing to the total. In the interest of readability, we will group Italy and Spain together and create another category for countries other than the USA, Brazil, and India. The combined height of the plot areas is the overall value, and the height of given shaded region is the value for the individual country."
   ]
  },
  {
   "cell_type": "code",
   "execution_count": null,
   "metadata": {},
   "outputs": [],
   "source": [
    "cols = [\n",
    "    col for col in new_cases_rolling_average.columns \n",
    "    if col not in ['USA', 'Brazil', 'India', 'Italy & Spain']\n",
    "]\n",
    "new_cases_rolling_average.assign(\n",
    "    **{'Italy & Spain': lambda x: x.Italy + x.Spain}\n",
    ").sort_index(axis=1).assign(\n",
    "    Other=lambda x: x[cols].sum(axis=1)\n",
    ").drop(columns=cols).plot(\n",
    "    kind='area', figsize=(15, 5), \n",
    "    title='7-day rolling average of new COVID-19 cases\\n(source: ECDC)'\n",
    ")"
   ]
  },
  {
   "cell_type": "markdown",
   "metadata": {},
   "source": [
    "Another way to visualize evolution over time is to look at the cumulative sum over time. Let's plot the cumulative number of COVID-19 cases in China, Spain, Italy, the USA, Brazil, and India, using `ax` to create subplots as we did in the previous example."
   ]
  },
  {
   "cell_type": "code",
   "execution_count": null,
   "metadata": {},
   "outputs": [],
   "source": [
    "fig, axes = plt.subplots(1, 3, figsize=(15, 3))\n",
    "\n",
    "cumulative_covid_cases = covid.groupby(\n",
    "    ['countriesAndTerritories', pd.Grouper(freq='1D')]\n",
    ").cases.sum().unstack(0).apply('cumsum')\n",
    "\n",
    "cumulative_covid_cases[['China']].plot(ax=axes[0], style='-.c')\n",
    "cumulative_covid_cases[['Italy', 'Spain']].plot(\n",
    "    ax=axes[1], style=['-', '--'], \n",
    "    title='Cumulative COVID-19 Cases\\n(source: ECDC)'\n",
    ")\n",
    "cumulative_covid_cases[['Brazil', 'India', 'USA']]\\\n",
    "    .plot(ax=axes[2], style=['--', ':', '-'])"
   ]
  },
  {
   "cell_type": "markdown",
   "metadata": {},
   "source": [
    "*NOTE: we specified the line styles here so that the lines can be distinguished in the text as a black and white image.*\n",
    "\n",
    "## Visualizing relationships between variables\n",
    "### Scatter plots\n",
    "We make scatter plots to help visualize the relationship between two variables. Creating scatter plots requires we pass in `kind='scatter'` along with a column for the x-axis and a column for the y-axis:"
   ]
  },
  {
   "cell_type": "code",
   "execution_count": null,
   "metadata": {},
   "outputs": [],
   "source": [
    "fb.assign(\n",
    "    max_abs_change=fb.high - fb.low\n",
    ").plot(\n",
    "    kind='scatter', x='volume', y='max_abs_change',\n",
    "    title='Facebook Daily High - Low vs. Volume Traded'\n",
    ")"
   ]
  },
  {
   "cell_type": "markdown",
   "metadata": {},
   "source": [
    "The relationship doesn't seem to be linear, but we can try a log transform on the x-axis since the scales of the axes are very different. With `pandas`, we simply pass in `logx=True`:"
   ]
  },
  {
   "cell_type": "code",
   "execution_count": null,
   "metadata": {},
   "outputs": [],
   "source": [
    "fb.assign(\n",
    "    max_abs_change=fb.high - fb.low\n",
    ").plot(\n",
    "    kind='scatter', x='volume', y='max_abs_change',\n",
    "    title='Facebook Daily High - Low vs. log(Volume Traded)', \n",
    "    logx=True\n",
    ")"
   ]
  },
  {
   "cell_type": "markdown",
   "metadata": {},
   "source": [
    "With `matplotlib`, we could use `plt.xscale('log')` to do the same thing.\n",
    "\n",
    "### Adding Transparency to Plots with `alpha`\n",
    "Sometimes our plots have many overlapping values, but this can be impossible to see. This can be addressed by increasing the transparency of what we are plotting using the `alpha` parameter. It is a float in the range [0, 1] where 0 is completely transparent and 1 is completely opaque. By default this is 1, so let's put in a lower value and re-plot the scatter plot:"
   ]
  },
  {
   "cell_type": "code",
   "execution_count": null,
   "metadata": {},
   "outputs": [],
   "source": [
    "fb.assign(\n",
    "    max_abs_change=fb.high - fb.low\n",
    ").plot(\n",
    "    kind='scatter', x='volume', y='max_abs_change',\n",
    "    title='Facebook Daily High - Low vs. log(Volume Traded)',\n",
    "    logx=True, alpha=0.25\n",
    ")"
   ]
  },
  {
   "cell_type": "markdown",
   "metadata": {},
   "source": [
    "### Hexbins\n",
    "In the previous example, we can start to see the overlaps, but it is still difficult. Hexbins are another plot type that divide up the plot into hexagons, which are shaded according to the density of points there. With `pandas`, this is the `hexbin` value for the `kind` argument. It may also be necessary to tweak the `gridsize`, which determines the number of hexagons along the y-axis:"
   ]
  },
  {
   "cell_type": "code",
   "execution_count": null,
   "metadata": {},
   "outputs": [],
   "source": [
    "fb.assign(\n",
    "    log_volume=np.log(fb.volume),\n",
    "    max_abs_change=fb.high - fb.low\n",
    ").plot(\n",
    "    kind='hexbin',\n",
    "    x='log_volume',\n",
    "    y='max_abs_change',\n",
    "    title='Facebook Daily High - Low vs. log(Volume Traded)',\n",
    "    colormap='gray_r',\n",
    "    gridsize=20, \n",
    "    sharex=False # we have to pass this to see the x-axis\n",
    ")"
   ]
  },
  {
   "cell_type": "markdown",
   "metadata": {},
   "source": [
    "### Visualizing Correlations with Heatmaps\n",
    "Pandas doesn't offer heatmaps; however, if we are able to get our data into a matrix, we can use `matshow()` from matplotlib:"
   ]
  },
  {
   "cell_type": "code",
   "execution_count": null,
   "metadata": {},
   "outputs": [],
   "source": [
    "fig, ax = plt.subplots(figsize=(20, 10))\n",
    "\n",
    "# calculate the correlation matrix\n",
    "fb_corr = fb.assign(\n",
    "    log_volume=np.log(fb.volume),\n",
    "    max_abs_change=fb.high - fb.low\n",
    ").corr()\n",
    "\n",
    "# create the heatmap and colorbar\n",
    "im = ax.matshow(fb_corr, cmap='seismic')\n",
    "im.set_clim(-1, 1)\n",
    "fig.colorbar(im)\n",
    "\n",
    "# label the ticks with the column names\n",
    "labels = [col.lower() for col in fb_corr.columns]\n",
    "ax.set_xticks(ax.get_xticks()[1:-1]) # to handle bug in matplotlib\n",
    "ax.set_xticklabels(labels, rotation=45)\n",
    "ax.set_yticks(ax.get_yticks()[1:-1]) # to handle bug in matplotlib\n",
    "ax.set_yticklabels(labels)\n",
    "\n",
    "# include the value of the correlation coefficient in the boxes\n",
    "for (i, j), coef in np.ndenumerate(fb_corr):\n",
    "    ax.text(\n",
    "        i, j, fr'$\\rho$ = {coef:.2f}', # raw (r), format (f) string\n",
    "        ha='center', va='center', \n",
    "        color='white', fontsize=14\n",
    "    )"
   ]
  },
  {
   "cell_type": "markdown",
   "metadata": {},
   "source": [
    "Accessing the values in the correlation matrix can be done with `loc[]`:"
   ]
  },
  {
   "cell_type": "code",
   "execution_count": null,
   "metadata": {},
   "outputs": [],
   "source": [
    "fb_corr.loc['max_abs_change', ['volume', 'log_volume']]"
   ]
  },
  {
   "cell_type": "markdown",
   "metadata": {},
   "source": [
    "## Visualizing distributions\n",
    "### Histograms\n",
    "With the `pandas`, making histograms is as easy as passing `kind='hist'` to the `plot()` method:"
   ]
  },
  {
   "cell_type": "code",
   "execution_count": null,
   "metadata": {},
   "outputs": [],
   "source": [
    "fb.volume.plot(\n",
    "    kind='hist', \n",
    "    title='Histogram of Daily Volume Traded in Facebook Stock'\n",
    ")\n",
    "plt.xlabel('Volume traded') # label the x-axis (discussed in lab 6)"
   ]
  },
  {
   "cell_type": "markdown",
   "metadata": {},
   "source": [
    "We can overlap histograms to compare distributions provided we use the `alpha` parameter. For example, let's compare the usage and magnitude of the various measurement techniques (the `magType` column) in the data:"
   ]
  },
  {
   "cell_type": "code",
   "execution_count": null,
   "metadata": {},
   "outputs": [],
   "source": [
    "fig, axes = plt.subplots(figsize=(8, 5))\n",
    "\n",
    "for magtype in quakes.magType.unique():\n",
    "    data = quakes.query(f'magType == \"{magtype}\"').mag\n",
    "    if not data.empty:\n",
    "        data.plot(\n",
    "            kind='hist', ax=axes, alpha=0.4, \n",
    "            label=magtype, legend=True,\n",
    "            title='Comparing histograms of earthquake magnitude by magType'\n",
    "        )\n",
    "\n",
    "plt.xlabel('magnitude') # label the x-axis (discussed in lab 6)"
   ]
  },
  {
   "cell_type": "markdown",
   "metadata": {},
   "source": [
    "### Kernel Density Estimation (KDE)\n",
    "We can pass `kind='kde'` for an estimate of the probability density function (PDF), which tells us the probability of getting a particular value:"
   ]
  },
  {
   "cell_type": "code",
   "execution_count": null,
   "metadata": {},
   "outputs": [],
   "source": [
    "fb.high.plot(\n",
    "    kind='kde', \n",
    "    title='KDE of Daily High Price for Facebook Stock'\n",
    ")\n",
    "plt.xlabel('Price ($)') # label the x-axis (discussed in lab 6)"
   ]
  },
  {
   "cell_type": "markdown",
   "metadata": {},
   "source": [
    "### Adding to the result of `plot()`\n",
    "The `plot()` method returns an `Axes` object. We can store this for additional customization of the plot, or we can pass this into another call to `plot()` as the `ax` argument to add to the original plot. \n",
    "\n",
    "It can often be helpful to view the KDE superimposed on top of the histogram, which can be achieved with this strategy:"
   ]
  },
  {
   "cell_type": "code",
   "execution_count": null,
   "metadata": {},
   "outputs": [],
   "source": [
    "ax = fb.high.plot(kind='hist', density=True, alpha=0.5)\n",
    "fb.high.plot(\n",
    "    ax=ax, kind='kde', color='blue', \n",
    "    title='Distribution of Facebook Stock\\'s Daily High Price in 2018'\n",
    ")\n",
    "plt.xlabel('Price ($)') # label the x-axis (discussed in lab 6)"
   ]
  },
  {
   "cell_type": "markdown",
   "metadata": {},
   "source": [
    "### Plotting the ECDF\n",
    "In some cases, we are more interested in the probability of getting less than or equal to that value (or greater than or equal), which we can see with the **cumulative disribution function (CDF)**. Using the `statsmodels` package, we can estimate the CDF giving us the **empirical cumulative distribution function (ECDF)**:"
   ]
  },
  {
   "cell_type": "code",
   "execution_count": null,
   "metadata": {},
   "outputs": [],
   "source": [
    "from statsmodels.distributions.empirical_distribution import ECDF\n",
    "\n",
    "ecdf = ECDF(quakes.query('magType == \"ml\"').mag)\n",
    "plt.plot(ecdf.x, ecdf.y)\n",
    "\n",
    "# axis labels (we will cover this in lab 6)\n",
    "plt.xlabel('mag') # add x-axis label \n",
    "plt.ylabel('cumulative probability') # add y-axis label\n",
    "\n",
    "# add title (we will cover this in lab 6)\n",
    "plt.title('ECDF of earthquake magnitude with magType ml')"
   ]
  },
  {
   "cell_type": "markdown",
   "metadata": {},
   "source": [
    "This ECDF tells us the probability of getting an earthquake with magnitude of 3 or less using the `ml` scale is 98%:"
   ]
  },
  {
   "cell_type": "code",
   "execution_count": null,
   "metadata": {},
   "outputs": [],
   "source": [
    "from statsmodels.distributions.empirical_distribution import ECDF\n",
    "\n",
    "ecdf = ECDF(quakes.query('magType == \"ml\"').mag)\n",
    "plt.plot(ecdf.x, ecdf.y)\n",
    "\n",
    "# formatting below will all be covered in lab 6\n",
    "# axis labels\n",
    "plt.xlabel('mag') # add x-axis label \n",
    "plt.ylabel('cumulative probability') # add y-axis label\n",
    "\n",
    "# add reference lines for interpreting the ECDF for mag <= 3 \n",
    "plt.plot(\n",
    "    [3, 3], [0, .98], '--k', \n",
    "    [-1.5, 3], [0.98, 0.98], '--k', alpha=0.4\n",
    ")\n",
    "\n",
    "# set axis ranges\n",
    "plt.ylim(0, None)\n",
    "plt.xlim(-1.25, None)\n",
    "\n",
    "# add a title\n",
    "plt.title('P(mag <= 3) = 98%')"
   ]
  },
  {
   "cell_type": "markdown",
   "metadata": {},
   "source": [
    "### Box plots\n",
    "To make box plots with `pandas`, we pass `kind='box'` to the `plot()` method:"
   ]
  },
  {
   "cell_type": "code",
   "execution_count": null,
   "metadata": {},
   "outputs": [],
   "source": [
    "fb.iloc[:,:4].plot(kind='box', title='Facebook OHLC Prices Box Plot')\n",
    "plt.ylabel('price ($)') # label the x-axis (discussed in lab 6)"
   ]
  },
  {
   "cell_type": "markdown",
   "metadata": {},
   "source": [
    "If we pass in `notch=True`, we get a notched box plot. The notch represents a 95% confidence interval around the median, which can be helpful when comparing differences. For an introduction to interpreting a notched box plot, see this [Google sites page](https://sites.google.com/site/davidsstatistics/home/notched-box-plots) and this [Towards Data Science article](https://towardsdatascience.com/understanding-boxplots-5e2df7bcbd51)."
   ]
  },
  {
   "cell_type": "code",
   "execution_count": null,
   "metadata": {},
   "outputs": [],
   "source": [
    "fb.iloc[:,:4].plot(kind='box', title='Facebook OHLC Prices Box Plot', notch=True)\n",
    "plt.ylabel('price ($)') # label the x-axis (discussed in lab 6)"
   ]
  },
  {
   "cell_type": "markdown",
   "metadata": {},
   "source": [
    "This can also be combined with a call to `groupby()`:"
   ]
  },
  {
   "cell_type": "code",
   "execution_count": null,
   "metadata": {},
   "outputs": [],
   "source": [
    "fb.assign(\n",
    "    volume_bin=pd.cut(fb.volume, 3, labels=['low', 'med', 'high'])\n",
    ").groupby('volume_bin').boxplot(\n",
    "    column=['open', 'high', 'low', 'close'],\n",
    "    layout=(1, 3), figsize=(12, 3)\n",
    ")\n",
    "plt.suptitle('Facebook OHLC Box Plots by Volume Traded', y=1.1)"
   ]
  },
  {
   "cell_type": "markdown",
   "metadata": {},
   "source": [
    "We can use this to see the distribution of magnitudes across the different measurement methods for earthquakes:"
   ]
  },
  {
   "cell_type": "code",
   "execution_count": null,
   "metadata": {},
   "outputs": [],
   "source": [
    "quakes[['mag', 'magType']].groupby('magType').boxplot(\n",
    "    figsize=(15, 8), subplots=False\n",
    ")\n",
    "plt.title('Earthquake Magnitude Box Plots by magType')\n",
    "plt.ylabel('magnitude') # label the y-axis (discussed in lab 6)"
   ]
  },
  {
   "cell_type": "markdown",
   "metadata": {},
   "source": [
    "## Counts and frequencies\n",
    "### Bar charts\n",
    "Passing `kind='barh'` gives us horizontal bars while `kind='bar'` gives us vertical ones. Let's use horizontal bars to look at the top 15 places for earthquakes in our data:"
   ]
  },
  {
   "cell_type": "code",
   "execution_count": null,
   "metadata": {},
   "outputs": [],
   "source": [
    "quakes.parsed_place.value_counts().iloc[14::-1,].plot(\n",
    "    kind='barh', figsize=(10, 5),\n",
    "    title='Top 15 Places for Earthquakes '\n",
    "          '(September 18, 2018 - October 13, 2018)'\n",
    ")\n",
    "plt.xlabel('earthquakes') # label the x-axis (discussed in lab 6)"
   ]
  },
  {
   "cell_type": "markdown",
   "metadata": {},
   "source": [
    "We also have data on whether earthquakes were accompanied by tsunamis. Let's see what the top places for tsunamis are:"
   ]
  },
  {
   "cell_type": "code",
   "execution_count": null,
   "metadata": {},
   "outputs": [],
   "source": [
    "quakes.groupby('parsed_place').tsunami.sum().sort_values().iloc[-10:,].plot(\n",
    "    kind='barh', figsize=(10, 5), \n",
    "    title='Top 10 Places for Tsunamis '\n",
    "          '(September 18, 2018 - October 13, 2018)'\n",
    ")\n",
    "plt.xlabel('tsunamis') # label the x-axis (discussed in lab 6)"
   ]
  },
  {
   "cell_type": "markdown",
   "metadata": {},
   "source": [
    "Seeing that Indonesia is the top place for tsunamis during the time period we are looking at, we may want to look how many earthquakes and tsunamis Indonesia gets on a daily basis. We could show this as a line plot or with bars; since we don't want to interpolate, we will use bars here:"
   ]
  },
  {
   "cell_type": "code",
   "execution_count": null,
   "metadata": {},
   "outputs": [],
   "source": [
    "indonesia_quakes = quakes.query('parsed_place == \"Indonesia\"').assign(\n",
    "    time=lambda x: pd.to_datetime(x.time, unit='ms'),\n",
    "    earthquake=1\n",
    ").set_index('time').resample('1D').sum()\n",
    "\n",
    "# format the datetimes in the index for the x-axis\n",
    "indonesia_quakes.index = indonesia_quakes.index.strftime('%b\\n%d')\n",
    "\n",
    "indonesia_quakes.plot(\n",
    "    y=['earthquake', 'tsunami'], kind='bar', figsize=(15, 3), \n",
    "    rot=0, label=['earthquakes', 'tsunamis'], \n",
    "    title='Earthquakes and Tsunamis in Indonesia '\n",
    "          '(September 18, 2018 - October 13, 2018)'\n",
    ")\n",
    "\n",
    "# label the axes (discussed in lab 6)\n",
    "plt.xlabel('date')\n",
    "plt.ylabel('count')"
   ]
  },
  {
   "cell_type": "markdown",
   "metadata": {},
   "source": [
    "### Grouped Bars"
   ]
  },
  {
   "cell_type": "code",
   "execution_count": null,
   "metadata": {},
   "outputs": [],
   "source": [
    "quakes.groupby(['parsed_place', 'tsunami']).mag.count()\\\n",
    "    .unstack().apply(lambda x: x / x.sum(), axis=1)\\\n",
    "    .rename(columns={0: 'no', 1: 'yes'})\\\n",
    "    .sort_values('yes', ascending=False)[7::-1]\\\n",
    "    .plot.barh(\n",
    "        title='Frequency of a tsunami accompanying an earthquake'\n",
    "    )\n",
    "\n",
    "# move legend to the right of the plot\n",
    "plt.legend(title='tsunami?', bbox_to_anchor=(1, 0.65))\n",
    "\n",
    "# label the axes (discussed in lab 6)\n",
    "plt.xlabel('percentage of earthquakes')\n",
    "plt.ylabel('')"
   ]
  },
  {
   "cell_type": "markdown",
   "metadata": {},
   "source": [
    "Using the `kind` arugment for vertical bars when the labels for each bar are shorter:"
   ]
  },
  {
   "cell_type": "code",
   "execution_count": null,
   "metadata": {},
   "outputs": [],
   "source": [
    "quakes.magType.value_counts().plot(\n",
    "    kind='bar', title='Earthquakes Recorded per magType', rot=0\n",
    ")\n",
    "\n",
    "# label the axes (discussed in lab 6)\n",
    "plt.xlabel('magType')\n",
    "plt.ylabel('earthquakes')"
   ]
  },
  {
   "cell_type": "markdown",
   "metadata": {},
   "source": [
    "### Stacked bars"
   ]
  },
  {
   "cell_type": "code",
   "execution_count": null,
   "metadata": {},
   "outputs": [],
   "source": [
    "pivot = quakes.assign(\n",
    "    mag_bin=lambda x: np.floor(x.mag)\n",
    ").pivot_table(\n",
    "    index='mag_bin', columns='magType', values='mag', aggfunc='count'\n",
    ")\n",
    "pivot.plot.bar(\n",
    "    stacked=True, rot=0, ylabel='earthquakes', \n",
    "    title='Earthquakes by integer magnitude and magType'\n",
    ")"
   ]
  },
  {
   "cell_type": "markdown",
   "metadata": {},
   "source": [
    "#### Normalized stacked bars\n",
    "Plot the percentages to be better able to see the different `magTypes`."
   ]
  },
  {
   "cell_type": "code",
   "execution_count": null,
   "metadata": {},
   "outputs": [],
   "source": [
    "normalized_pivot = pivot.fillna(0).apply(lambda x: x / x.sum(), axis=1)\n",
    "ax = normalized_pivot.plot.bar(\n",
    "    stacked=True, rot=0, figsize=(10, 5),\n",
    "    title='Percentage of earthquakes by integer magnitude for each magType'\n",
    ")\n",
    "ax.legend(bbox_to_anchor=(1, 0.8)) # move legend to the right of the plot\n",
    "plt.ylabel('percentage') # label the axes (discussed in lab 6)"
   ]
  },
  {
   "cell_type": "markdown",
   "metadata": {},
   "source": [
    "We can also create horizontal stacked bars and do so using `groupby()` and `unstack()`:"
   ]
  },
  {
   "cell_type": "code",
   "execution_count": null,
   "metadata": {},
   "outputs": [],
   "source": [
    "quakes.groupby(['parsed_place', 'tsunami']).mag.count()\\\n",
    "    .unstack().apply(lambda x: x / x.sum(), axis=1)\\\n",
    "    .rename(columns={0: 'no', 1: 'yes'})\\\n",
    "    .sort_values('yes', ascending=False)[7::-1]\\\n",
    "    .plot.barh(\n",
    "        title='Frequency of a tsunami accompanying an earthquake', \n",
    "        stacked=True\n",
    "    )\n",
    "\n",
    "# move legend to the right of the plot\n",
    "plt.legend(title='tsunami?', bbox_to_anchor=(1, 0.65))\n",
    "\n",
    "# label the axes (discussed in lab 6)\n",
    "plt.xlabel('percentage of earthquakes')\n",
    "plt.ylabel('')"
   ]
  },
  {
   "cell_type": "markdown",
   "metadata": {},
   "source": [
    "<hr>\n",
    "<div>\n",
    "    <a href=\"./1-introducing_matplotlib.ipynb\">\n",
    "        <button>&#8592; Previous Notebook</button>\n",
    "    </a>\n",
    "    <a href=\"./3-pandas_plotting_module.ipynb\">\n",
    "        <button style=\"float: right;\">Next Notebook &#8594;</button>\n",
    "    </a>\n",
    "</div>\n",
    "<hr>"
   ]
  }
 ],
 "metadata": {
  "kernelspec": {
   "display_name": "Python 3",
   "language": "python",
   "name": "python3"
  },
  "language_info": {
   "codemirror_mode": {
    "name": "ipython",
    "version": 3
   },
   "file_extension": ".py",
   "mimetype": "text/x-python",
   "name": "python",
   "nbconvert_exporter": "python",
   "pygments_lexer": "ipython3",
   "version": "3.8.6"
  }
 },
 "nbformat": 4,
 "nbformat_minor": 4
}
